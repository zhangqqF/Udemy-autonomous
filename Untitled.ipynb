{
 "cells": [
  {
   "cell_type": "markdown",
   "id": "32d4217e",
   "metadata": {},
   "source": [
    "# Udemy autonomous car 1"
   ]
  },
  {
   "cell_type": "markdown",
   "id": "b733c8f0",
   "metadata": {},
   "source": [
    ">zhangqq  \n",
    "May-12, 2023  \n",
    "Chongqing"
   ]
  },
  {
   "cell_type": "markdown",
   "id": "e576d696",
   "metadata": {},
   "source": [
    "1. 導入包"
   ]
  },
  {
   "cell_type": "code",
   "execution_count": 1,
   "id": "b3e8e8ec",
   "metadata": {},
   "outputs": [],
   "source": [
    "import numpy as np\n",
    "import matplotlib.pyplot as plt\n",
    "import matplotlib.gridspec as gridspec\n",
    "import matplotlib.animation as animation"
   ]
  },
  {
   "cell_type": "markdown",
   "id": "89d875ec",
   "metadata": {},
   "source": [
    "2. 計算時間、預測時域"
   ]
  },
  {
   "cell_type": "code",
   "execution_count": 2,
   "id": "8ef67070",
   "metadata": {},
   "outputs": [],
   "source": [
    "Ts = 0.02\n",
    "time_length = 10\n",
    "t = np.arange(0, time_length + Ts, Ts)\n",
    "Np = 20"
   ]
  },
  {
   "cell_type": "markdown",
   "id": "a805f551",
   "metadata": {},
   "source": [
    "3. 車輛縱向速度恆定 20m/s"
   ]
  },
  {
   "cell_type": "code",
   "execution_count": 3,
   "id": "393fcc74",
   "metadata": {},
   "outputs": [],
   "source": [
    "dx = 20\n",
    "x = np.linspace(0, dx*time_length, len(t))"
   ]
  },
  {
   "cell_type": "markdown",
   "id": "c41fe20d",
   "metadata": {},
   "source": [
    "構造參考轨迹:\n",
    "- 第一種軌跡\n",
    "$$\n",
    "y=-9\n",
    "$$\n",
    "- 第二種軌跡\n",
    "$$\n",
    "y=9\\tanh(t-5)\n",
    "$$\n",
    "- 第二種軌跡\n",
    "$$\n",
    "\\begin{aligned}\n",
    "    y1&=a(f-100+x)^2+b \\\\\n",
    "    y2&=2r\\sin(2f\\pi x) \\\\\\\\\n",
    "    y&=(y1+y2)/2 \\\\\n",
    "\\end{aligned}\n",
    "$$\n",
    "不需理会这些参数，只需记住该曲线是函数生成即可\n",
    "\n",
    "求軌跡曲綫的$\\varphi$：\n",
    "- 注意：$np.zeros((3))$生成的是矩阵，而$np.zeros(3)$是行向量\n",
    "- $acrtan2$而非$arctan$，$acrtan2$的值域為$[-\\pi, \\pi]$，而$acrtan$為$[-\\frac{\\pi}{2}, \\frac{\\pi}{2}]$\n",
    "- 如果$d\\varphi>\\pi或d\\varphi<-\\pi$，则应改为其补角，这也是此处需要计算$d\\varphi$的原因"
   ]
  },
  {
   "cell_type": "code",
   "execution_count": 4,
   "id": "317ce6b7",
   "metadata": {},
   "outputs": [
    {
     "data": {
      "image/png": "[encoded data removed]",
      "text/plain": [
       "<Figure size 640x480 with 1 Axes>"
      ]
     },
     "metadata": {},
     "output_type": "display_data"
    }
   ],
   "source": [
    "def trajectories(trajectory, x):\n",
    "    if trajectory == 1:\n",
    "        y = -9*np.ones(len(t))\n",
    "    elif trajectory == 2:\n",
    "        y = 9*np.tanh(t-t[-1]/2)\n",
    "    elif trajectory == 3:\n",
    "        a = -28/100**2 / 1.1\n",
    "        if a < 0:\n",
    "            b = 14\n",
    "        else:\n",
    "            b = -14\n",
    "        f = 0.01\n",
    "        r = 4\n",
    "        y1 = a*(f - 100 + x)**2 + b\n",
    "        y2 = 2*r*np.sin(2*np.pi*f*x)\n",
    "        y = (y1 + y2)/2\n",
    "    else:\n",
    "        print('For trajectory, you can choose 1, 2, or 3 as an integer value to fuck')\n",
    "        exit()\n",
    "    \n",
    "    \n",
    "    # 求φ\n",
    "    dx = x[1:len(x)] - x[0:len(x)-1]\n",
    "    dy = y[1:len(y)] - y[0:len(y)-1]\n",
    "    # dx, dy比x, y少一个\n",
    "\n",
    "    phi = np.zeros(len(x))\n",
    "    phi[0] = np.arctan2(dy[0], dx[0])\n",
    "    phi[1:] = np.arctan2(dy[:], dx[:])  # φ使维度等同于x，y，取前两项相同\n",
    "\n",
    "    dphi = phi[1:] - phi[:-1]  # 与dx，dy写法的结果是一样的\n",
    "    phi_ref = phi\n",
    "    for i in range(1, len(phi)):\n",
    "        if dphi[i-1] < -np.pi:\n",
    "            phi_ref[i] = phi_ref[i-1] + (dphi[i-1] + 2*np.pi)\n",
    "        elif dphi[i-1] > np.pi:\n",
    "            phi_ref[i] = phi_ref[i-1] + (dphi[i-1] - 2*np.pi)\n",
    "        else:\n",
    "            phi_ref[i] = phi_ref[i-1] + dphi[i-1]\n",
    "    \n",
    "    return phi_ref, x, y\n",
    "\n",
    "[phi_ref, x, y] = trajectories(3, x)\n",
    "plt.plot(x, y)\n",
    "plt.show()"
   ]
  },
  {
   "cell_type": "markdown",
   "id": "fc64e5ae",
   "metadata": {},
   "source": [
    "反正切函数"
   ]
  },
  {
   "cell_type": "code",
   "execution_count": null,
   "id": "da600df4",
   "metadata": {},
   "outputs": [],
   "source": []
  },
  {
   "cell_type": "markdown",
   "id": "065279df",
   "metadata": {},
   "source": [
    "## 公式推導"
   ]
  },
  {
   "cell_type": "markdown",
   "id": "8cf30c81",
   "metadata": {},
   "source": [
    "**1. 動力學方程：**"
   ]
  },
  {
   "cell_type": "markdown",
   "id": "07a7621b",
   "metadata": {},
   "source": [
    "- 旋轉部分造成的側向：\n",
    "$$\n",
    "\\left\\{\n",
    "    \\begin{array}{ll}\n",
    "\t\tF_{yf}+F_{yf}=m(\\ddot{y}+\\dot{x}\\dot{\\varphi}) \\\\\n",
    "\t\tF_{yf}\\cdot{L_f}-F_{yr}\\cdot{L_r}=I\\ddot{\\varphi}\n",
    "    \\end{array}\n",
    "\\right.\n",
    "$$"
   ]
  },
  {
   "cell_type": "markdown",
   "id": "f1194f5a",
   "metadata": {},
   "source": [
    "- 考虑轮胎侧偏（轮胎小侧偏角假设）：\n",
    "$$\\left\\{\n",
    "    \\begin{array}{ll}\n",
    "\t\tF_{yf}=2C_{Lf}(\\delta-\\theta_{vf}) \\\\\n",
    "\t\tF_{yr}=2C_{Lr}(-\\theta_{vr})\n",
    "    \\end{array}\n",
    "\\right.\n",
    "$$"
   ]
  },
  {
   "cell_type": "markdown",
   "id": "1e901165",
   "metadata": {},
   "source": [
    "- 轉向小角度假設：\n",
    "$$\n",
    "\\left\\{\n",
    "\t\\begin{array}{ll}\n",
    "\t\t\\tan{\\theta_{vf}} \\approx \\theta_{vf}=\\frac{\\dot{y}+L_{f}\\dot{\\varphi}}{\\dot{x}} \\\\\n",
    "\t\t\\tan{\\theta_{vr}} \\approx \\theta_{vr}=\\frac{\\dot{y}-L_{r}\\dot{\\varphi}}{\\dot{x}}\n",
    "\t\\end{array}\n",
    "\\right.\n",
    "$$"
   ]
  },
  {
   "cell_type": "markdown",
   "id": "8ca01bad",
   "metadata": {},
   "source": [
    "聯立，寫成如下矩陣：\n",
    "$$\n",
    "\\begin{bmatrix}\n",
    "    \\ddot{y} \\\\\n",
    "    \\ddot{\\varphi}\n",
    "\\end{bmatrix}\n",
    "=\n",
    "\\begin{bmatrix}\n",
    "    a & b \\\\\n",
    "    c & d\n",
    "\\end{bmatrix}\n",
    "\\begin{bmatrix}\n",
    "    \\dot{y} \\\\\n",
    "    \\dot{\\varphi}\n",
    "\\end{bmatrix}\n",
    "+\n",
    "\\begin{bmatrix}\n",
    "    e \\\\\n",
    "    f\n",
    "\\end{bmatrix} \\delta\n",
    "$$"
   ]
  },
  {
   "cell_type": "markdown",
   "id": "7aaffe43",
   "metadata": {},
   "source": [
    "- 其中：\n",
    "$$\n",
    "\\color{blue}{\n",
    "\\begin{aligned}\n",
    "    a&=-\\frac{2C_{Lf}+2C_{Lr}}{\\dot{x}m} \\\\ \\\\\n",
    "    b&=\\frac{-2C_{Lf}L_{f}+2C_{Lr}L_r}{\\dot{x}m}-\\dot{x} \\\\ \\\\\n",
    "    c&=\\frac{-2C_{Lf}L_{f}+2C_{Lr}L_{r}}{\\dot{x}I_z} \\\\ \\\\\n",
    "    d&=\\frac{-2C_{Lf}L_{f}^2-2C_{Lr}L_{r}^2}{\\dot{x}I_z} \\\\ \\\\\n",
    "    e&=\\frac{2C_{Lf}}{m} \\\\ \\\\\n",
    "    f&=\\frac{2C_{Lf}L_{f}}{I_z}\n",
    "\\end{aligned}\n",
    "}\n",
    "$$"
   ]
  },
  {
   "cell_type": "markdown",
   "id": "3d81c3e1",
   "metadata": {},
   "source": [
    "**2. 完整的控制方程：**\n",
    "\n",
    "增加$\\varphi$、$y$兩個狀態量，因爲$\\varphi$、$y$是參考量：\n",
    "$$\n",
    "\\left.\n",
    "    \\begin{array}{ll}\n",
    "\t\t \\ddot{y}=a\\dot{y}+b\\dot{\\varphi}+e\\delta \\\\\n",
    "      \\ddot{\\varphi}=c\\dot{y}+d\\dot{\\varphi}+f\\delta \\\\\n",
    "      \\dot{\\varphi}=\\dot{\\varphi} \\\\\n",
    "      \\dot{y}=\\dot{y}\\cos(\\varphi)+\\dot{x}\\sin(\\varphi)\n",
    "    \\end{array}\n",
    "\\right.\n",
    "$$"
   ]
  },
  {
   "cell_type": "markdown",
   "id": "c2bfb768",
   "metadata": {},
   "source": [
    "小轉角假設，使$\\cos(\\varphi)\\approx1$、$\\sin(\\varphi)\\approx0$，然後寫成矩陣形式：\n",
    "\n",
    "$$\n",
    "\\begin{bmatrix}\n",
    "    \\ddot{y} \\\\\n",
    "    \\dot{\\varphi} \\\\\n",
    "    \\ddot{\\varphi} \\\\\n",
    "    \\dot{y}\n",
    "\\end{bmatrix}\n",
    "=\n",
    "\\begin{bmatrix}\n",
    "    a & 0 & b & 0 \\\\\n",
    "    0 & 0 & 1 & 0 \\\\\n",
    "    c & 0 & d & 0 \\\\\n",
    "    1 & \\dot{x} & 0 & 0\n",
    "\\end{bmatrix}\n",
    "\\begin{bmatrix}\n",
    "    \\dot{y} \\\\\n",
    "    \\varphi \\\\\n",
    "    \\dot{\\varphi} \\\\\n",
    "     y\n",
    "\\end{bmatrix}\n",
    "+\n",
    "\\begin{bmatrix}\n",
    "    e \\\\\n",
    "    0 \\\\\n",
    "    f \\\\\n",
    "    0\n",
    "\\end{bmatrix} \\delta\n",
    "$$"
   ]
  },
  {
   "cell_type": "markdown",
   "id": "f092efde",
   "metadata": {},
   "source": [
    "$$\n",
    "\\begin{bmatrix}\n",
    "    \\varphi \\\\\n",
    "     y\n",
    "\\end{bmatrix}\n",
    "=\n",
    "\\begin{bmatrix}\n",
    "   0 & 1 & 0 & 0 \\\\\n",
    "   0 & 0 & 0 & 1 \\\\\n",
    "\\end{bmatrix}\n",
    "\\begin{bmatrix}\n",
    "    \\dot{y} \\\\\n",
    "    \\varphi \\\\\n",
    "    \\dot{\\varphi} \\\\\n",
    "     y\n",
    "\\end{bmatrix}\n",
    "+\n",
    "\\begin{bmatrix}\n",
    "   0 \\\\\n",
    "   0\n",
    "\\end{bmatrix} \\delta\n",
    "$$"
   ]
  },
  {
   "cell_type": "markdown",
   "id": "1def55d5",
   "metadata": {},
   "source": [
    "- 即：\n",
    "$$\n",
    "\\boldsymbol{\\dot{X}}=\\boldsymbol{A}\\boldsymbol{X}+\\boldsymbol{B}\\delta \\\\\n",
    "\\boldsymbol{Y}=\\boldsymbol{C}\\boldsymbol{X}+\\boldsymbol{D}\\delta\n",
    "$$"
   ]
  },
  {
   "cell_type": "markdown",
   "id": "9a64a7f1",
   "metadata": {},
   "source": [
    "    其中：\n",
    "$$\n",
    "\\color{blue}{\n",
    "\\begin{aligned}\n",
    "    \\boldsymbol{A}=\n",
    "    \\begin{bmatrix}\n",
    "        a & 0 & b & 0 \\\\\n",
    "        0 & 0 & 1 & 0 \\\\\n",
    "        c & 0 & d & 0 \\\\\n",
    "        1 & \\dot{x} & 0 & 0\n",
    "    \\end{bmatrix}\n",
    "    ,\\quad\n",
    "    \\boldsymbol{B}=\n",
    "    \\begin{bmatrix}\n",
    "        e \\\\\n",
    "        0 \\\\\n",
    "        f \\\\\n",
    "        0\n",
    "    \\end{bmatrix}\n",
    "    \\\\\n",
    "    \\\\\n",
    "    \\boldsymbol{C}=\n",
    "    \\begin{bmatrix}\n",
    "       0 & 1 & 0 & 0 \\\\\n",
    "       0 & 0 & 0 & 1 \\\\\n",
    "    \\end{bmatrix}\n",
    "    ,\\quad\n",
    "    \\boldsymbol{D}=\n",
    "    \\begin{bmatrix}\n",
    "       0 \\\\\n",
    "       0\n",
    "    \\end{bmatrix}\n",
    "\\end{aligned}\n",
    "}\n",
    "$$"
   ]
  },
  {
   "cell_type": "markdown",
   "id": "b64c973d",
   "metadata": {},
   "source": [
    "**3. 離散化：**  \n",
    "\n",
    "將連續性方程$\\boldsymbol{\\dot{X}}=\\boldsymbol{A}\\boldsymbol{X}+\\boldsymbol{B}\\delta$離散化（Forward-Euler），得：\n",
    "$$\n",
    "\\begin{aligned}\n",
    "    \\boldsymbol{\\dot{X}}_{k+1}&=\\boldsymbol{X}_{k}+\\boldsymbol{A}Ts\\boldsymbol{X}_{k}+\\boldsymbol{B}Ts\\delta_k \\\\\n",
    "    &=(\\boldsymbol{I}+\\boldsymbol{A}Ts)\\boldsymbol{X}_k+\\boldsymbol{B}Ts\\delta_k\n",
    "\\end{aligned}\n",
    "$$"
   ]
  },
  {
   "cell_type": "markdown",
   "id": "3349655e",
   "metadata": {},
   "source": [
    "- 即：\n",
    "\n",
    "$$\n",
    "\\boldsymbol{\\dot{X}}_{k+1}=\\boldsymbol{A_d}\\boldsymbol{X}_k+\\boldsymbol{B_d}\\delta_k\n",
    "$$"
   ]
  },
  {
   "cell_type": "markdown",
   "id": "930925fc",
   "metadata": {},
   "source": [
    "    其中：\n",
    "\n",
    "$$\n",
    "\\color{blue}{\n",
    "\\begin{aligned}\n",
    "    \\boldsymbol{A_d}&=\\boldsymbol{I}+\\boldsymbol{A}Ts \\\\\n",
    "    \\boldsymbol{B_d}&=\\boldsymbol{B}Ts \\\\\n",
    "    \\boldsymbol{C_d}&=\\boldsymbol{C} \\\\\n",
    "    \\boldsymbol{D_d}&=\\boldsymbol{D} \n",
    "\\end{aligned}}\n",
    "$$\n",
    "\n",
    "矩陣下標的$_d$表示discrete。"
   ]
  },
  {
   "cell_type": "markdown",
   "id": "946939cb",
   "metadata": {},
   "source": [
    "**4. 預測：**\n",
    "\n",
    "設N=5，對$\\boldsymbol{\\dot{X}}_{k+1}=\\boldsymbol{A_d}\\boldsymbol{X}_k+\\boldsymbol{B_d}\\delta_k$進行展開，得："
   ]
  },
  {
   "cell_type": "markdown",
   "id": "4a16f2ae",
   "metadata": {},
   "source": [
    "$$\n",
    "\\begin{bmatrix}\n",
    "  X_1 \\\\\n",
    "  X_2 \\\\\n",
    "  X_3 \\\\\n",
    "  X_4 \\\\\n",
    "  X_5 \\\\\n",
    "\\end{bmatrix}\n",
    "=\n",
    "\\begin{bmatrix}\n",
    "  {\\boldsymbol{A}_{d}}^1 \\\\\n",
    "  {\\boldsymbol{A}_{d}}^2 \\\\\n",
    "  {\\boldsymbol{A}_{d}}^3 \\\\\n",
    "  {\\boldsymbol{A}_{d}}^4 \\\\\n",
    "  {\\boldsymbol{A}_{d}}^5 \\\\\n",
    "\\end{bmatrix}X_0\n",
    "+\n",
    "\\begin{bmatrix}\n",
    "  {\\boldsymbol{A}_{d}}^0\\boldsymbol{B}_{d} & & & & \\\\\n",
    "  {\\boldsymbol{A}_{d}}^1\\boldsymbol{B}_{d} & {\\boldsymbol{A}_{d}}^0\\boldsymbol{B}_{d} & & & \\\\\n",
    "  {\\boldsymbol{A}_{d}}^2\\boldsymbol{B}_{d} & {\\boldsymbol{A}_{d}}^1\\boldsymbol{B}_{d} & {\\boldsymbol{A}_{d}}^0\\boldsymbol{B}_{d} & & \\\\\n",
    "  {\\boldsymbol{A}_{d}}^3\\boldsymbol{B}_{d} & {\\boldsymbol{A}_{d}}^2\\boldsymbol{B}_{d} & {\\boldsymbol{A}_{d}}^1\\boldsymbol{B}_{d} & {\\boldsymbol{A}_{d}}^0\\boldsymbol{B}_{d} & \\\\\n",
    "  {\\boldsymbol{A}_{d}}^4\\boldsymbol{B}_{d} & {\\boldsymbol{A}_{d}}^3\\boldsymbol{B}_{d} & {\\boldsymbol{A}_{d}}^2\\boldsymbol{B}_{d} & {\\boldsymbol{A}_{d}}^1\\boldsymbol{B}_{d} & {\\boldsymbol{A}_{d}}^0\\boldsymbol{B}_{d} \\\\\n",
    "\\end{bmatrix}\n",
    "\\begin{bmatrix}\n",
    "  \\delta_0 \\\\\n",
    "  \\delta_1 \\\\\n",
    "  \\delta_2 \\\\\n",
    "  \\delta_3 \\\\\n",
    "  \\delta_4 \\\\\n",
    "\\end{bmatrix}\n",
    "$$"
   ]
  },
  {
   "cell_type": "markdown",
   "id": "ad993740",
   "metadata": {},
   "source": [
    "- 歸納，得：\n",
    "\n",
    "$$\n",
    "\\boldsymbol{X}_{k+N}=\n",
    "{\\boldsymbol{A}_{d}}^{N}X_0+\\sum\\limits_{i=0}^{N-1}{\\boldsymbol{A}_{d}}^{i}\\boldsymbol{B}_{d}\\delta_{i}\n",
    "$$"
   ]
  },
  {
   "cell_type": "markdown",
   "id": "dfca1755",
   "metadata": {},
   "source": [
    "**4. 控制量誤差代替控制量：**\n",
    "\n",
    "用$\\Delta\\delta$代替$\\delta$，得：\n",
    "\n",
    "$$\n",
    "\\left\\{\n",
    "  \\begin{array}\n",
    "    \\boldsymbol{X}_{k+1}=\\boldsymbol{A_{d}X}+\\boldsymbol{B}\\delta_{k-1}+\\boldsymbol{B}\\Delta\\delta \\\\\n",
    "    \\delta_k=\\delta_{k-1}+\\Delta\\delta\n",
    "  \\end{array}\n",
    "\\right.\n",
    "$$"
   ]
  },
  {
   "cell_type": "markdown",
   "id": "9f16dbbc",
   "metadata": {},
   "source": [
    "- 寫成矩陣：\n",
    "$$\n",
    "\\begin{bmatrix}\n",
    "  \\boldsymbol{X}_{k+1} \\\\\n",
    "  \\delta_k\n",
    "\\end{bmatrix}\n",
    "=\n",
    "\\begin{bmatrix}\n",
    "  \\boldsymbol{A_d} & \\boldsymbol{B_d} \\\\\n",
    "  \\boldsymbol{0} & \\boldsymbol{I}\n",
    "\\end{bmatrix}\n",
    "\\begin{bmatrix}\n",
    "  \\boldsymbol{X} \\\\\n",
    "  \\delta_{k-1}\n",
    "\\end{bmatrix}\n",
    "+\n",
    "\\begin{bmatrix}\n",
    "  \\boldsymbol{B_d} \\\\\n",
    "  \\boldsymbol{I}\n",
    "\\end{bmatrix}\\Delta\\delta\n",
    "$$\n",
    "\n",
    "$$\n",
    "\\boldsymbol{y}_k=\n",
    "\\begin{bmatrix}\n",
    "  \\varphi \\\\\n",
    "  y\n",
    "\\end{bmatrix}\n",
    "=\n",
    "\\begin{bmatrix}\n",
    "  \\boldsymbol{C} & \\boldsymbol{0}\n",
    "\\end{bmatrix}\n",
    "\\begin{bmatrix}\n",
    "\\boldsymbol{X}_k \\\\\n",
    "\\boldsymbol\\delta_{k}\n",
    "\\end{bmatrix}\n",
    "+\n",
    "0\n",
    "$$"
   ]
  },
  {
   "cell_type": "markdown",
   "id": "822b8fe9",
   "metadata": {},
   "source": [
    "- 即：\n",
    "\n",
    "$$\n",
    "\\boldsymbol{\\tilde{X}}_{k+1}=\\boldsymbol{\\tilde{A}}\\boldsymbol{\\tilde{X}}_k+\\boldsymbol{\\tilde{B}}\\Delta\\delta\n",
    "$$"
   ]
  },
  {
   "cell_type": "markdown",
   "id": "e3a0cfb9",
   "metadata": {},
   "source": [
    "    其中：\n",
    "$$\n",
    "\\color{blue}{\n",
    "\\begin{aligned}\n",
    "  \\boldsymbol{\\tilde{A}}&=\n",
    "    \\begin{bmatrix}\n",
    "      \\boldsymbol{A_d} & \\boldsymbol{B_d} \\\\\n",
    "      \\boldsymbol{0} & \\boldsymbol{I}\n",
    "    \\end{bmatrix}\n",
    "    \\\\\\\\\n",
    "  \\boldsymbol{\\tilde{B}}&=\n",
    "    \\begin{bmatrix}\n",
    "      \\boldsymbol{B_d} \\\\\n",
    "      \\boldsymbol{I}\n",
    "    \\end{bmatrix}\n",
    "    \\\\\\\\\n",
    "  \\boldsymbol{\\tilde{C}}&=\n",
    "  \\begin{bmatrix}\n",
    "    \\boldsymbol{C} & \\boldsymbol{0}\n",
    "  \\end{bmatrix}\n",
    "    \\\\\\\\\n",
    "    \\boldsymbol{\\tilde{D}}&=\\boldsymbol{D}_d\n",
    "\\end{aligned}}\n",
    "$$\n",
    "\n",
    "儅$\\Delta$介入后，係數矩陣即變成增廣矩陣，矩陣上方的$\\boldsymbol{\\tilde{}}$代表增廣矩陣。矩陣從4x4擴展到5x5。"
   ]
  },
  {
   "cell_type": "code",
   "execution_count": null,
   "id": "45e01b39",
   "metadata": {},
   "outputs": [],
   "source": []
  },
  {
   "cell_type": "markdown",
   "id": "8838e8c6",
   "metadata": {},
   "source": [
    "**5. 最小化：**\n",
    "\n",
    "cost function為:\n",
    "$$\n",
    "\\newcommand{\\e}{\\boldsymbol e}\n",
    "\\newcommand{\\S}{\\boldsymbol S}\n",
    "\\newcommand{\\Q}{\\boldsymbol Q}\n",
    "\\newcommand{\\R}{\\boldsymbol R}\n",
    "\\newcommand{\\Dd}{\\boldsymbol{\\Delta\\delta}}\n",
    "J=\\frac{1}{2}\\e^T_{k+N}\\S\\e_{k+N}+\\frac{1}{2}\\sum\\limits_{i=0}^{N-1}[\\e^T_{k+i}\\Q\\e_{k+i}+\\Dd^T_{k+i}\\R\\Dd_{k+i}]\n",
    "$$"
   ]
  },
  {
   "cell_type": "markdown",
   "id": "fd680f7d",
   "metadata": {},
   "source": [
    "- 設$\\boldsymbol{r}$為參考值，用狀態量誤差代替狀態量，即$\\boldsymbol{e}=\\boldsymbol{r}-\\boldsymbol{\\tilde{C}}\\boldsymbol{\\tilde{X}}$，得：\n",
    "\n",
    "$$\n",
    "\\newcommand{\\r}{\\boldsymbol r}\n",
    "\\newcommand{\\C}{\\boldsymbol{\\tilde{C}}}\n",
    "\\newcommand{\\X}{\\boldsymbol{\\tilde{X}}}\n",
    "\\newcommand{\\S}{\\boldsymbol S}\n",
    "\\newcommand{\\Q}{\\boldsymbol Q}\n",
    "\\newcommand{\\R}{\\boldsymbol R}\n",
    "\\newcommand{\\Dd}{\\boldsymbol{\\Delta\\delta}}\n",
    "J'=\\frac{1}{2}(r_{k+N}-\\C\\X_{k+N})^T\\S(r_{k+N}-\\C\\X_{k+N})+\\frac{1}{2}\\sum\\limits_{i=0}^{N-1}[(r_{k+i}-\\C\\X_{k+i})^T\\Q(r_{k+i}-\\C\\X_{k+i})+\\Dd^T_{k+i}\\R\\Dd_{k+i}]\n",
    "$$\n",
    "        \n",
    "- $J'$表示誤差cost function。"
   ]
  },
  {
   "cell_type": "markdown",
   "id": "b1ccca3c",
   "metadata": {},
   "source": [
    "    對前一項進行展開，得：\n",
    "\n",
    "$$\n",
    "\\newcommand{\\r}{\\boldsymbol r}\n",
    "\\newcommand{\\C}{\\boldsymbol{\\tilde{C}}}\n",
    "\\newcommand{\\X}{\\boldsymbol{\\tilde{X}}}\n",
    "\\newcommand{\\S}{\\boldsymbol S}\n",
    "\\newcommand{\\Q}{\\boldsymbol Q}\n",
    "\\newcommand{\\R}{\\boldsymbol R}\n",
    "\\newcommand{\\Dd}{\\boldsymbol{\\Delta\\delta}}\n",
    "\\begin{aligned}\n",
    "(r_{k+N}-\\C\\X_{k+N})^T\\S(r_{k+N}-\\C\\X_{k+N})\n",
    "&=\n",
    "({\\r_{k+N}}^T - {\\X_{k+N}}^T\\C^T) \\S ({\\r_{k+N}} - {\\X_{k+N}}\\C)\n",
    "\\\\&=\n",
    "{\\r_{k+N}}^T\\S{\\r_{k+N}} - {\\r_{k+N}}^T\\S{\\X_{k+N}}\\C - {\\X_{k+N}}^T\\C^T\\S{\\r_{k+N}} + {\\X_{k+N}}^T\\C^T\\S\\C{\\X_{k+N}}\n",
    "\\\\刪除沒有變量（隨時間變化）的常數項，於是：\n",
    "\\\\&=\n",
    "- {\\r_{k+N}}^T\\S{\\X_{k+N}}\\C - {\\X_{k+N}}^T\\C^T\\S{\\r_{k+N}}\n",
    "\\end{aligned}\n",
    "$$"
   ]
  },
  {
   "cell_type": "markdown",
   "id": "2cf04674",
   "metadata": {},
   "source": [
    "    同理：\n",
    "$$\n",
    "\\newcommand{\\r}{\\boldsymbol r}\n",
    "\\newcommand{\\C}{\\boldsymbol{\\tilde{C}}}\n",
    "\\newcommand{\\X}{\\boldsymbol{\\tilde{X}}}\n",
    "\\newcommand{\\S}{\\boldsymbol S}\n",
    "\\newcommand{\\Q}{\\boldsymbol Q}\n",
    "\\newcommand{\\R}{\\boldsymbol R}\n",
    "\\newcommand{\\Dd}{\\boldsymbol{\\Delta\\delta}}\n",
    "\\begin{aligned}\n",
    "(r_{k+i}-\\C\\X_{k+i})^T\\S(r_{k+i}-\\C\\X_{k+i})\n",
    "=\n",
    "- {\\r_{k+i}}^T\\S{\\X_{k+i}}\\C - {\\X_{k+i}}^T\\C^T\\S{\\r_{k+i}}\n",
    "\\end{aligned}\n",
    "$$"
   ]
  },
  {
   "cell_type": "markdown",
   "id": "6548e1bc",
   "metadata": {},
   "source": [
    "- 於是可以寫成以下矩陣形式：\n",
    "\n",
    "$$\n",
    "\\newcommand{\\r}{\\boldsymbol r}\n",
    "\\newcommand{\\C}{\\boldsymbol{\\tilde{C}}}\n",
    "\\newcommand{\\X}{\\boldsymbol{\\tilde{X}}}\n",
    "\\newcommand{\\Dd}{\\boldsymbol{\\Delta\\delta}}\n",
    "\\newcommand{\\S}{\\boldsymbol S}\n",
    "\\newcommand{\\Q}{\\boldsymbol Q}\n",
    "\\newcommand{\\R}{\\boldsymbol R}\n",
    "\\newcommand{\\T}{\\boldsymbol T}\n",
    "J'=\n",
    "\\frac{1}{2}\\X^T\n",
    "\\underbrace{\n",
    "\\begin{bmatrix}\n",
    "  \\C^T\\Q\\C &  &  & \\\\\n",
    "   & \\C^T\\Q\\C & & & \\\\\n",
    "   &  & \\ddots & & \\\\\n",
    "    & & & \\C^T\\S\\C \\\\\n",
    "\\end{bmatrix}}\\limits_{\\color{blue}{\\bar{\\bar{\\Q}}}}\\X\n",
    "-\n",
    "\\frac{1}{2}\\r^T\n",
    "\\underbrace{\n",
    "\\begin{bmatrix}\n",
    "  \\Q\\C &  &  & \\\\\n",
    "   & \\Q\\C & & & \\\\\n",
    "   &  & \\ddots & & \\\\\n",
    "    & & & \\S\\C \\\\\n",
    "\\end{bmatrix}}\\limits_{\\color{blue}{\\bar{\\bar{\\T}}}}\\X\n",
    "+\n",
    "\\frac{1}{2}\\Dd^T\n",
    "\\underbrace{\n",
    "\\begin{bmatrix}\n",
    "  \\R &  &  & \\\\\n",
    "   & \\ddots & & & \\\\\n",
    "   &  & \\ddots & & \\\\\n",
    "    & & & \\R \\\\\n",
    "\\end{bmatrix}}\\limits_{\\color{blue}{\\bar{\\bar{\\R}}}}\\Dd\n",
    "$$"
   ]
  },
  {
   "cell_type": "markdown",
   "id": "d54cb530",
   "metadata": {},
   "source": [
    "    即：\n",
    "$$\n",
    "\\newcommand{\\r}{\\boldsymbol r}\n",
    "\\newcommand{\\X}{\\boldsymbol{\\tilde{X}}}\n",
    "\\newcommand{\\Dd}{\\boldsymbol{\\Delta\\delta}}\n",
    "\\newcommand{\\Q}{\\boldsymbol{\\bar{\\bar{Q}}}}\n",
    "\\newcommand{\\R}{\\boldsymbol{\\bar{\\bar{R}}}}\n",
    "\\newcommand{\\T}{\\boldsymbol{\\bar{\\bar{T}}}}\n",
    "\\color{blue}{\n",
    "J'=\\frac{1}{2}(\\X^T\\Q\\X - \\r^T\\T\\X + \\Dd\\R\\Dd)\n",
    "}\n",
    "$$"
   ]
  },
  {
   "cell_type": "markdown",
   "id": "8835c5f9",
   "metadata": {},
   "source": [
    "**6. 預測**\n",
    "\n",
    "對$\\boldsymbol{\\tilde{X}}_{k+1}=\\boldsymbol{\\tilde{A}}\\boldsymbol{\\tilde{X}}_k+\\boldsymbol{\\tilde{B}}\\Delta\\delta\n",
    "$進行预测，得：\n",
    "\n",
    "$$\n",
    "\\begin{bmatrix}\n",
    "  \\boldsymbol{\\tilde{X}}_{k+1} \\\\\n",
    "  \\boldsymbol{\\tilde{X}}_{k+2} \\\\\n",
    "  \\boldsymbol{\\tilde{X}}_{k+3} \\\\\n",
    "  \\vdots \\\\\n",
    "  \\boldsymbol{\\tilde{X}}_{k+N} \\\\\n",
    "\\end{bmatrix}\n",
    "=\n",
    "\\underbrace{\\begin{bmatrix}\n",
    "  \\boldsymbol{\\tilde{A}}_{1} \\\\\n",
    "  \\boldsymbol{\\tilde{A}}_{2} \\\\\n",
    "  \\boldsymbol{\\tilde{A}}_{3} \\\\\n",
    "  \\vdots \\\\\n",
    "  \\boldsymbol{\\tilde{A}}_{N} \\\\\n",
    "\\end{bmatrix}}\\limits_\\color{blue}{\\boldsymbol{\\hat{\\hat{A}}}}\\boldsymbol{\\tilde{X}_k}\n",
    "+\n",
    "\\underbrace{\\begin{bmatrix}\n",
    "  \\boldsymbol{\\tilde{A}}^0\\boldsymbol{\\tilde{B}} & & & &  \\\\\n",
    "  \\boldsymbol{\\tilde{A}}^1\\boldsymbol{\\tilde{B}} & \\boldsymbol{\\tilde{A}}^0\\boldsymbol{\\tilde{B}} & & & \\\\\n",
    "  \\boldsymbol{\\tilde{A}}^2\\boldsymbol{\\tilde{B}} & \\boldsymbol{\\tilde{A}}^1\\boldsymbol{\\tilde{B}} & \\boldsymbol{\\tilde{A}}^0\\boldsymbol{\\tilde{B}} & & \\\\\n",
    "  \\vdots & & & &\\\\\n",
    "  \\boldsymbol{\\tilde{A}}^{N-1}\\boldsymbol{\\tilde{B}} &  & \\ldots &  & \\boldsymbol{\\tilde{A}}^0\\boldsymbol{\\tilde{B}}\\\\\n",
    "\\end{bmatrix}}\\limits_\\color{blue}{\\boldsymbol{\\bar{\\bar{C}}}}\n",
    "\\begin{bmatrix}\n",
    "  \\boldsymbol{\\Delta\\delta_{k+0}} \\\\\n",
    "  \\boldsymbol{\\Delta\\delta_{k+1}} \\\\\n",
    "  \\boldsymbol{\\Delta\\delta_{k+2}} \\\\\n",
    "  \\vdots \\\\\n",
    "  \\boldsymbol{\\Delta\\delta_{N-1}} \\\\\n",
    "\\end{bmatrix}\n",
    "$$"
   ]
  },
  {
   "cell_type": "markdown",
   "id": "46ad7494",
   "metadata": {},
   "source": [
    "- 即：\n",
    "$$\n",
    "\\color{blue}{\n",
    "    \\boldsymbol{\\tilde{X}}=\n",
    "    \\boldsymbol{\\hat{\\hat{A}}}\\boldsymbol{\\tilde{X}}_k + \\boldsymbol{\\bar{\\bar{C}}}\\boldsymbol{\\Delta{\\tilde\\delta}}\n",
    "}\n",
    "$$"
   ]
  },
  {
   "cell_type": "markdown",
   "id": "daa88cbc",
   "metadata": {},
   "source": [
    "將此式代入$J'$，得：\n",
    "\n",
    "$$\n",
    "\\newcommand{\\A}{\\boldsymbol{\\hat{\\hat{A}}}}\n",
    "\\newcommand{\\C}{\\boldsymbol{\\bar{\\bar{C}}}}\n",
    "\\newcommand{\\Q}{\\boldsymbol{\\bar{\\bar{Q}}}}\n",
    "\\newcommand{\\R}{\\boldsymbol{\\bar{\\bar{R}}}}\n",
    "\\newcommand{\\T}{\\boldsymbol{\\bar{\\bar{T}}}}\n",
    "\\newcommand{\\r}{\\boldsymbol{r}}\n",
    "\\newcommand{\\X}{\\boldsymbol{\\tilde{X}}}\n",
    "\\newcommand{\\Dd}{\\boldsymbol{\\Delta\\delta}}\n",
    "J''=\n",
    "\\frac{1}{2}(\\A\\X_k+\\C\\Dd)^T \\Q (\\A\\X_k+\\C\\Dd) - \\frac{1}{2}\\r^T \\T (\\A\\X_k+\\C\\Dd) + \\frac{1}{2}\\Dd^T\\R\\Dd\n",
    "$$"
   ]
  },
  {
   "cell_type": "markdown",
   "id": "1e8eaee3",
   "metadata": {},
   "source": [
    "- 展開並消去常數項：\n",
    "$$\n",
    "\\newcommand{\\A}{\\boldsymbol{\\hat{\\hat{A}}}}\n",
    "\\newcommand{\\C}{\\boldsymbol{\\bar{\\bar{C}}}}\n",
    "\\newcommand{\\Q}{\\boldsymbol{\\bar{\\bar{Q}}}}\n",
    "\\newcommand{\\R}{\\boldsymbol{\\bar{\\bar{R}}}}\n",
    "\\newcommand{\\T}{\\boldsymbol{\\bar{\\bar{T}}}}\n",
    "\\newcommand{\\r}{\\boldsymbol{r}}\n",
    "\\newcommand{\\X}{\\boldsymbol{\\tilde{X}}}\n",
    "\\newcommand{\\Dd}{\\boldsymbol{\\Delta\\delta}}\n",
    "\\begin{aligned}\n",
    "  (\\A\\X_k+\\C\\Dd)^T \\Q (\\A\\X_k+\\C\\Dd)&=\\color{grey}{(\\A\\X_k)^T\\Q(\\A\\X_k)} + (\\A\\X_k)^T\\Q\\C\\Dd + (\\C\\Dd)^T\\Q(\\A\\X_k) + (\\C\\Dd)^T\\Q\\C\\Dd\n",
    "  \\\\&=\n",
    "  (\\A\\X_k)^T\\Q\\C\\Dd + (\\C\\Dd)^T\\Q(\\A\\X_k) + (\\C\\Dd)^T\\Q\\C\\Dd\n",
    "  \\\\&=\n",
    "  \\underbrace{\\X_k^T\\A^T\\Q\\C\\Dd + \\Dd^T\\C^T\\Q\\A\\X_k}\\limits_{互爲轉置且又是對角矩陣，因此二者相等} + \\Dd^T\\C^T\\Q\\C\\Dd\n",
    "  \\\\&=\n",
    "  2\\X_k^T\\A^T\\Q\\C\\Dd + \\Dd^T\\C^T\\Q\\C\\Dd\n",
    "  \\\\\\\\\n",
    "  \\r^T\\T(\\A\\X_k+\\C\\Dd) &= \\color{grey}{\\r^T\\T\\A\\X_k} + \\r^T\\T\\C\\Dd\n",
    "  \\\\&=\n",
    "  \\r^T\\T\\C\\Dd\n",
    "  \\\\\\\\\n",
    "  \\Dd^T\\R\\Dd &= \\Dd^T\\R\\Dd\n",
    "\\end{aligned}\n",
    "$$"
   ]
  },
  {
   "cell_type": "markdown",
   "id": "4054939b",
   "metadata": {},
   "source": [
    "- 於是：\n",
    "    \n",
    "$$\n",
    "\\newcommand{\\A}{\\boldsymbol{\\hat{\\hat{A}}}}\n",
    "\\newcommand{\\C}{\\boldsymbol{\\bar{\\bar{C}}}}\n",
    "\\newcommand{\\Q}{\\boldsymbol{\\bar{\\bar{Q}}}}\n",
    "\\newcommand{\\R}{\\boldsymbol{\\bar{\\bar{R}}}}\n",
    "\\newcommand{\\T}{\\boldsymbol{\\bar{\\bar{T}}}}\n",
    "\\newcommand{\\r}{\\boldsymbol{r}}\n",
    "\\newcommand{\\X}{\\boldsymbol{\\tilde{X}}}\n",
    "\\newcommand{\\Dd}{\\boldsymbol{\\Delta\\delta}}\n",
    "J''=\\X_k^T\\A^T\\Q\\C\\Dd + \\frac{1}{2}\\Dd^T\\C^T\\Q\\C\\Dd + \\r^T\\T\\C\\Dd + \\frac{1}{2}\\Dd^T\\R\\Dd\n",
    "$$"
   ]
  },
  {
   "cell_type": "markdown",
   "id": "514e55d1",
   "metadata": {},
   "source": [
    "- 分離$\\Delta\\delta$，得：\n",
    "\n",
    "$$\n",
    "\\newcommand{\\A}{\\boldsymbol{\\hat{\\hat{A}}}}\n",
    "\\newcommand{\\C}{\\boldsymbol{\\bar{\\bar{C}}}}\n",
    "\\newcommand{\\Q}{\\boldsymbol{\\bar{\\bar{Q}}}}\n",
    "\\newcommand{\\R}{\\boldsymbol{\\bar{\\bar{R}}}}\n",
    "\\newcommand{\\T}{\\boldsymbol{\\bar{\\bar{T}}}}\n",
    "\\newcommand{\\r}{\\boldsymbol{r}}\n",
    "\\newcommand{\\X}{\\boldsymbol{\\tilde{X}}}\n",
    "\\newcommand{\\Dd}{\\boldsymbol{\\Delta\\delta}}\n",
    "J''=(\\X_k^T\\A^T\\Q\\C + \\r^T\\T\\C)\\Dd + \\frac{1}{2}\\Dd^T(\\C^T\\Q\\C+\\R)\\Dd\n",
    "$$"
   ]
  },
  {
   "cell_type": "markdown",
   "id": "9fc98270",
   "metadata": {},
   "source": [
    "- 於是可以寫成以下矩陣：\n",
    "\n",
    "$$\n",
    "\\newcommand{\\A}{\\boldsymbol{\\hat{\\hat{A}}}}\n",
    "\\newcommand{\\C}{\\boldsymbol{\\bar{\\bar{C}}}}\n",
    "\\newcommand{\\Q}{\\boldsymbol{\\bar{\\bar{Q}}}}\n",
    "\\newcommand{\\R}{\\boldsymbol{\\bar{\\bar{R}}}}\n",
    "\\newcommand{\\T}{\\boldsymbol{\\bar{\\bar{T}}}}\n",
    "\\newcommand{\\F}{\\boldsymbol{\\bar{\\bar{F}}}}\n",
    "\\newcommand{\\H}{\\boldsymbol{\\bar{\\bar{H}}}}\n",
    "\\newcommand{\\r}{\\boldsymbol{r}}\n",
    "\\newcommand{\\X}{\\boldsymbol{\\tilde{X}}}\n",
    "\\newcommand{\\Dd}{\\boldsymbol{\\Delta\\delta}}\n",
    "J''=\n",
    "\\frac{1}{2}\\Dd^T\\underbrace{(\\C^T\\Q\\C+\\R)}\\limits_{\\color{blue}{\\H}}\\Dd+\n",
    "\\begin{bmatrix}\n",
    "    \\X_k^T & \\r^T\n",
    "\\end{bmatrix}\n",
    "\\underbrace{\\begin{bmatrix}\n",
    "    \\A^T\\Q\\C \\\\\n",
    "    \\T\\C\n",
    "\\end{bmatrix}}\\limits_{\\color{blue}{\\F^T}}\\Dd\n",
    "$$"
   ]
  },
  {
   "cell_type": "markdown",
   "id": "595e8e11",
   "metadata": {},
   "source": [
    "令$J''$求梯度等於0，得：\n",
    "\n",
    "$$\n",
    "\\newcommand{\\F}{\\boldsymbol{\\bar{\\bar{F}}}}\n",
    "\\newcommand{\\H}{\\boldsymbol{\\bar{\\bar{H}}}}\n",
    "\\newcommand{\\r}{\\boldsymbol{r}}\n",
    "\\newcommand{\\X}{\\boldsymbol{\\tilde{X}}}\n",
    "\\newcommand{\\Dd}{\\boldsymbol{\\Delta\\delta}}\n",
    "\\nabla{J''}=\\H\\Dd+\n",
    "\\begin{bmatrix}\n",
    "    \\X_k^T & \\r^T\n",
    "\\end{bmatrix}\\F^T\n",
    "=0\n",
    "$$"
   ]
  },
  {
   "cell_type": "markdown",
   "id": "1385f3fe",
   "metadata": {},
   "source": [
    "- 求得：\n",
    "\n",
    "$$\n",
    "\\newcommand{\\F}{\\boldsymbol{\\bar{\\bar{F}}}}\n",
    "\\newcommand{\\H}{\\boldsymbol{\\bar{\\bar{H}}}}\n",
    "\\newcommand{\\r}{\\boldsymbol{r}}\n",
    "\\newcommand{\\X}{\\boldsymbol{\\tilde{X}}}\n",
    "\\newcommand{\\Dd}{\\boldsymbol{\\Delta\\delta}}\n",
    "\\color{blue}{\n",
    "\\Dd=\n",
    "-\\H^{-1}\n",
    "\\begin{bmatrix}\n",
    "    \\X_k^T & \\r^T\n",
    "\\end{bmatrix}\\F^T\n",
    "}\n",
    "$$"
   ]
  },
  {
   "cell_type": "markdown",
   "id": "04a18b4d",
   "metadata": {},
   "source": [
    "    因为控制量没有参考值，即参考值为0，所以上式即为：\n",
    "\n",
    "$$\n",
    "\\newcommand{\\F}{\\boldsymbol{\\bar{\\bar{F}}}}\n",
    "\\newcommand{\\H}{\\boldsymbol{\\bar{\\bar{H}}}}\n",
    "\\newcommand{\\r}{\\boldsymbol{r}}\n",
    "\\newcommand{\\X}{\\boldsymbol{\\tilde{X}}}\n",
    "\\newcommand{\\d}{\\boldsymbol{\\delta}}\n",
    "\\color{blue}{\n",
    "\\d=\n",
    "-\\H^{-1}\n",
    "\\begin{bmatrix}\n",
    "    \\X_k^T & \\r^T\n",
    "\\end{bmatrix}\\F^T\n",
    "}\n",
    "$$"
   ]
  },
  {
   "cell_type": "markdown",
   "id": "9699804a",
   "metadata": {},
   "source": [
    "---"
   ]
  },
  {
   "cell_type": "markdown",
   "id": "0e0df495",
   "metadata": {},
   "source": [
    "1. 运动方程"
   ]
  },
  {
   "cell_type": "code",
   "execution_count": 5,
   "id": "a0de468c",
   "metadata": {},
   "outputs": [],
   "source": [
    "Clf = 19000        # 前轮侧偏刚度\n",
    "Clr = 33000        # 后轮侧偏刚度\n",
    "m = 1500           # 汽车质量\n",
    "Lf = 2             # 质心到前轴距离\n",
    "Lr = 3             # 质心到后轴距离\n",
    "Iz = 3000          # 汽车转动惯量\n",
    "\n",
    "def abcdef(Clf, Clr, m, dx, Lf, Lr, Iz):\n",
    "    a = -(2*Clf + 2*Clr) / (dx*m)\n",
    "    b = (-2*Clf*Lf + 2*Clr*Lr) / (dx*m) - dx\n",
    "    c = (-2*Clf*Lf + 2*Clr*Lr) / (dx*Iz)\n",
    "    d = (-2*Clf*Lf**2 - 2*Clr*Lr**2)/ (dx*Iz)\n",
    "    e = 2*Clf / m\n",
    "    f = 2*Clf*Lf / Iz\n",
    "    \n",
    "    return [a,b,c,d,e,f]\n",
    "\n",
    "# print(abcdef(Clf, Clr, m, dx, Lf, Lr, Iz))"
   ]
  },
  {
   "cell_type": "markdown",
   "id": "f77724d2",
   "metadata": {},
   "source": [
    "2. 状态矩阵"
   ]
  },
  {
   "cell_type": "code",
   "execution_count": 6,
   "id": "12d138da",
   "metadata": {},
   "outputs": [],
   "source": [
    "def state_matrix(a,b,c,d,e,f):\n",
    "    A = np.array([[a, 0, b, 0],\n",
    "                  [0, 0, 1, 0],\n",
    "                  [c, 0, d, 0],\n",
    "                  [1, dx, 0, 0]])\n",
    "    B = np.transpose(np.array([[e, 0, f, 0]]))\n",
    "    C = np.array([[0, 1, 0, 0],\n",
    "                  [0, 0, 0, 1]])\n",
    "    D = 0\n",
    "    \n",
    "    return A,B,C,D\n",
    "\n",
    "# [a,b,c,d,e,f] = abcdef(Clf, Clr, m, dx, Lf, Lr, Iz)\n",
    "# print(state_matrix(a,b,c,d,e,f)[0],'\\n')\n",
    "# print(state_matrix(a,b,c,d,e,f)[1],'\\n')\n",
    "# print(state_matrix(a,b,c,d,e,f)[2],'\\n')\n",
    "# print(state_matrix(a,b,c,d,e,f)[3],'\\n')"
   ]
  },
  {
   "cell_type": "markdown",
   "id": "deb5e953",
   "metadata": {},
   "source": [
    "3. 离散矩阵（增广矩阵）"
   ]
  },
  {
   "cell_type": "code",
   "execution_count": 7,
   "id": "deeaf3fb",
   "metadata": {},
   "outputs": [],
   "source": [
    "def descrete(A,B,C,D):\n",
    "    Ad = np.identity(A.shape[0]) + A*Ts # 注意单位矩阵是方阵\n",
    "    Bd = B*Ts\n",
    "    Cd = C\n",
    "    Dd = D\n",
    "    \n",
    "    return Ad,Bd,Cd,Dd\n",
    "\n",
    "\n",
    "# [a,b,c,d,e,f] = abcdef(Clf, Clr, m, dx, Lf, Lr, Iz)\n",
    "# [A,B,C,D] = state_matrix(a,b,c,d,e,f)\n",
    "# [Ad,Bd,Cd,Dd] = descrete(A,B,C,D)\n",
    "# print(Ad, '\\n')\n",
    "# print(Bd, '\\n')\n",
    "# print(Cd, '\\n')\n",
    "# print(Dd, '\\n')"
   ]
  },
  {
   "cell_type": "markdown",
   "id": "bc6a8f9b",
   "metadata": {},
   "source": [
    "4. $\\Delta\\delta$代替$\\delta$矩阵"
   ]
  },
  {
   "cell_type": "code",
   "execution_count": 8,
   "id": "d9b962eb",
   "metadata": {},
   "outputs": [],
   "source": [
    "def delta(Ad,Bd,Cd,Dd):\n",
    "    temp_AB = np.concatenate((Ad, Bd), axis=1)\n",
    "    temp_0 = np.zeros((Bd.shape[1], Ad.shape[1]))\n",
    "    temp_I = np.identity(Bd.shape[1])\n",
    "    temp_0I = np.concatenate((temp_0, temp_I), axis=1)\n",
    "    A_tilde = np.concatenate((temp_AB, temp_0I), axis=0)\n",
    "\n",
    "    B_tilde = np.concatenate((Bd, np.identity(Bd.shape[1])), axis=0)\n",
    "    C_tilde = np.concatenate((C, np.zeros((C.shape[0], Bd.shape[1]))), axis=1)\n",
    "    D_tilde = Dd\n",
    "    \n",
    "    return A_tilde,B_tilde,C_tilde,D_tilde\n",
    "\n",
    "\n",
    "# [a,b,c,d,e,f] = abcdef(Clf, Clr, m, dx, Lf, Lr, Iz)\n",
    "# [A,B,C,D] = state_matrix(a,b,c,d,e,f)\n",
    "# [Ad,Bd,Cd,Dd] = descrete(A,B,C,D)\n",
    "# [A_tilde,B_tilde,C_tilde,D_tilde] = delta(Ad,Bd,Cd,Dd)\n",
    "# print(A_tilde, '\\n')\n",
    "# print(B_tilde, '\\n')\n",
    "# print(C_tilde, '\\n')\n",
    "# print(D_tilde, '\\n')"
   ]
  },
  {
   "cell_type": "markdown",
   "id": "d5dca523",
   "metadata": {},
   "source": [
    "5. 误差优化矩阵"
   ]
  },
  {
   "cell_type": "code",
   "execution_count": 9,
   "id": "ebdf5079",
   "metadata": {},
   "outputs": [],
   "source": [
    "def bbar(A_tilde,B_tilde,C_tilde,D_tilde, hz):\n",
    "    Q = np.matrix('1 0; 0 1')\n",
    "    S = np.matrix('1 0; 0 1')\n",
    "    R = np.matrix('1')\n",
    "    # print(Q)\n",
    "    \n",
    "    CQC = np.matmul(np.matmul(np.transpose(C_tilde), Q), C_tilde)\n",
    "    CSC = np.matmul(np.matmul(np.transpose(C_tilde), S), C_tilde)\n",
    "    QC = np.matmul(Q, C_tilde)\n",
    "    SC = np.matmul(S, C_tilde)\n",
    "    \n",
    "    Q_bb = np.zeros((CQC.shape[0]*hz, CQC.shape[1]*hz))  # hz, duration period其實就是Np\n",
    "    T_bb = np.zeros((QC.shape[0]*hz, QC.shape[1]*hz))\n",
    "    R_bb = np.zeros((R.shape[0]*hz, R.shape[1]*hz))\n",
    "    C_bb = np.zeros((B_tilde.shape[0]*hz, B_tilde.shape[1]*hz))\n",
    "    A_hh = np.zeros((A_tilde.shape[0]*hz, A_tilde.shape[1]))\n",
    "    for i in range(0, hz):\n",
    "        if i == hz-1:\n",
    "            Q_bb[CQC.shape[0]*i:CQC.shape[0]*i+CQC.shape[0], CQC.shape[1]*i:CQC.shape[1]*i+CQC.shape[1]] = CSC\n",
    "            T_bb[QC.shape[0]*i:QC.shape[0]*i+QC.shape[0], QC.shape[1]*i:QC.shape[1]*i+QC.shape[1]] = SC\n",
    "        else:\n",
    "            Q_bb[CQC.shape[0]*i:CQC.shape[0]*i+CQC.shape[0], CQC.shape[1]*i:CQC.shape[1]*i+CQC.shape[1]] = CQC\n",
    "            T_bb[QC.shape[0]*i:QC.shape[0]*i+QC.shape[0], QC.shape[1]*i:QC.shape[1]*i+QC.shape[1]] = QC\n",
    "\n",
    "        R_bb[R.shape[0]*i:R.shape[0]*i+R.shape[0], R.shape[1]*i:R.shape[1]*i+R.shape[1]] = R\n",
    "        A_hh[A_tilde.shape[0]*i:A_tilde.shape[0]*i+A_tilde.shape[0], :] = np.linalg.matrix_power(A_tilde, i+1)\n",
    "\n",
    "        for j in range(0, hz):\n",
    "            if j <= i:\n",
    "                AB = np.matmul(np.linalg.matrix_power(A_tilde, i-j), B_tilde)\n",
    "                C_bb[B_tilde.shape[0]*i:B_tilde.shape[0]*i+B_tilde.shape[0], B_tilde.shape[1]*j:B_tilde.shape[1]*j+B_tilde.shape[1]] = AB\n",
    "    \n",
    "    return Q_bb,T_bb,R_bb,C_bb,A_hh\n",
    "\n",
    "\n",
    "[a,b,c,d,e,f] = abcdef(Clf, Clr, m, dx, Lf, Lr, Iz)\n",
    "[A,B,C,D] = state_matrix(a,b,c,d,e,f)\n",
    "[Ad,Bd,Cd,Dd] = descrete(A,B,C,D)\n",
    "[A_tilde,B_tilde,C_tilde,D_tilde] = delta(Ad,Bd,Cd,Dd)\n",
    "[Q_bb,T_bb,R_bb,C_bb,A_hh] = bbar(A_tilde,B_tilde,C_tilde,D_tilde, 20)\n",
    "# print(Q_bb, '\\n')\n",
    "# print(T_bb, '\\n')\n",
    "# print(R_bb, '\\n')\n",
    "# print(C_bb, '\\n')\n",
    "# print(A_hh, '\\n')"
   ]
  },
  {
   "cell_type": "markdown",
   "id": "bbf1efd3",
   "metadata": {},
   "source": [
    "6. 梯度矩阵"
   ]
  },
  {
   "cell_type": "code",
   "execution_count": 10,
   "id": "fec7979f",
   "metadata": {},
   "outputs": [],
   "source": [
    "def gradient(C_bb, Q_bb, R_bb, T_bb):\n",
    "    H_bb = np.matmul(np.matmul(np.transpose(C_bb), Q_bb), C_bb) + R_bb\n",
    "    \n",
    "    AQC = np.matmul(np.matmul(np.transpose(A_hh), Q_bb), C_bb)\n",
    "    TC = np.matmul(-T_bb, C_bb)\n",
    "    F_bbt = np.concatenate((AQC, TC), axis=0)\n",
    "    \n",
    "    return H_bb, F_bbt\n",
    "\n",
    "\n",
    "[a,b,c,d,e,f] = abcdef(Clf, Clr, m, dx, Lf, Lr, Iz)\n",
    "[A,B,C,D] = state_matrix(a,b,c,d,e,f)\n",
    "[Ad,Bd,Cd,Dd] = descrete(A,B,C,D)\n",
    "[A_tilde,B_tilde,C_tilde,D_tilde] = delta(Ad,Bd,Cd,Dd)\n",
    "[Q_bb,T_bb,R_bb,C_bb,A_hh] = bbar(A_tilde,B_tilde,C_tilde,D_tilde, 20)\n",
    "[H_bb, F_bbt] = gradient(C_bb, Q_bb, R_bb, T_bb)\n",
    "# print(H_bb, '\\n')\n",
    "# print(F_bbt, '\\n')"
   ]
  },
  {
   "cell_type": "markdown",
   "id": "129a26db",
   "metadata": {},
   "source": [
    "---"
   ]
  },
  {
   "cell_type": "markdown",
   "id": "64c4c3f0",
   "metadata": {},
   "source": [
    "**循环预测**"
   ]
  },
  {
   "cell_type": "markdown",
   "id": "f57d81ce",
   "metadata": {},
   "source": [
    "1. 初始化预测状态矩阵\n",
    "\n",
    "$$\n",
    "predict\\_states=\n",
    "\\left [\n",
    "\\begin{array}{l|lllll:lllll}\n",
    "    t=0 & \\dot{y}^0 & \\varphi^0 & \\dot{\\varphi}^0 & y^0 & \\delta^0 & \\dot{y}^1 & \\varphi^1 & \\dot{\\varphi}^1 & y^1 & \\delta^1 & \\dots & \\dot{y}^{hz} & \\varphi^{hz} & \\dot{\\varphi}^{hz} & y^{hz} & \\delta^{hz} \\\\\n",
    "    t=0.02 & \\dot{y}^0 & \\varphi^0 & \\dot{\\varphi}^0 & y^0 & \\delta^0 & \\dot{y}^1 & \\varphi^1 & \\dot{\\varphi}^1 & y^1 & \\delta^1 & \\dots & \\dot{y}^{hz} & \\varphi^{hz} & \\dot{\\varphi}^{hz} & y^{hz} & \\delta^{hz} \\\\\n",
    "    \\vdots \\\\\n",
    "    t=10 & \\dot{y}^0 & \\varphi^0 & \\dot{\\varphi}^0 & y^0 & \\delta^0 & \\dot{y}^1 & \\varphi^1 & \\dot{\\varphi}^1 & y^1 & \\delta^1 & \\dots & \\dot{y}^{hz} & \\varphi^{hz} & \\dot{\\varphi}^{hz} & y^{hz} & \\delta^{hz} \\\\\n",
    "\\end{array}\n",
    "\\right ]\n",
    "$$"
   ]
  },
  {
   "cell_type": "markdown",
   "id": "f2f5e934",
   "metadata": {},
   "source": [
    "- 附：将参考数据合为一个矩阵"
   ]
  },
  {
   "cell_type": "code",
   "execution_count": 17,
   "id": "9201c9f8",
   "metadata": {},
   "outputs": [],
   "source": [
    "outputs = 2\n",
    "sim_length = len(t)\n",
    "ref = np.zeros(outputs*sim_length)\n",
    "for i in range(0, sim_length):\n",
    "    ref[i*outputs: (i+1)*outputs] = [phi_ref[i], y[i]]\n",
    "# print(ref)"
   ]
  },
  {
   "cell_type": "markdown",
   "id": "82531c69",
   "metadata": {},
   "source": [
    "- 当$\\boldsymbol{\\Delta\\delta}$预测出来后，回到动力方程，计算出状态量\n",
    "\n",
    "$$\n",
    "\\color{blue}{\n",
    "\\left.\n",
    "    \\begin{array}{ll}\n",
    "\t\t \\ddot{y}=a\\dot{y}+b\\dot{\\varphi}+e\\delta \\\\\n",
    "      \\ddot{\\varphi}=c\\dot{y}+d\\dot{\\varphi}+f\\delta \\\\\n",
    "      \\dot{\\varphi}=\\dot{\\varphi} \\\\\n",
    "      \\dot{y}=\\dot{y}\\cos(\\varphi)+\\dot{x}\\sin(\\varphi)\n",
    "    \\end{array}\n",
    "\\right.\n",
    "}\n",
    "$$"
   ]
  },
  {
   "cell_type": "code",
   "execution_count": 1,
   "id": "d6c00851",
   "metadata": {},
   "outputs": [],
   "source": [
    "def predict_states(init_U, init_states, dx):\n",
    "    \n",
    "    [a,b,c,d,e,f] = abcdef(Clf, Clr, m, dx, Lf, Lr, Iz)\n",
    "    \n",
    "    dy = init_states[0]\n",
    "    dphi = init_states[1]\n",
    "    phi = init_states[2]\n",
    "    y = init_states[3] \n",
    "    \n",
    "    ddy = a*dy + b*dphi + e*init_U\n",
    "    ddphi = c*dy + d*dphi + f*init_U\n",
    "    dphi = dphi\n",
    "    dy = dy*np.cos(phi) + dx*np.sin(phi)\n",
    "    \n",
    "    # 积分更新状态矩阵\n",
    "    dy = dy + ddy*Ts\n",
    "    dphi = dphi + ddphi*Ts\n",
    "    phi = phi + dphi*Ts\n",
    "    y = y + dy*Ts\n",
    "    \n",
    "    update_states = [dy, dphi, phi, y]\n",
    "    return update_states"
   ]
  },
  {
   "cell_type": "code",
   "execution_count": null,
   "id": "39d70559",
   "metadata": {},
   "outputs": [],
   "source": [
    "# 构造预测状态矩阵\n",
    "init_dy = 0\n",
    "init_dphi = 0\n",
    "init_phi = 0\n",
    "init_y = y[0] + 10   # 初始y在参考y的10上面位置\n",
    "init_states = np.array([init_dy, init_dphi, init_phi, init_y])\n",
    "states = np.zeros((len(t), len(init_states)))\n",
    "states[0] = init_states\n",
    "\n",
    "# 构造预测控制量矩阵\n",
    "init_U = 0\n",
    "U = np.zeros(len(t))\n",
    "U[0] = init_U\n",
    "\n",
    "def predict(sim_length, controls, states, hz):\n",
    "    \n",
    "    # 状态量和控制量的增广矩阵\n",
    "    X_aug_T = np.concatenate((init_states, [init_U]), axis=0)\n",
    "    X_tilde = np.transpose(np.concatenate((init_states, [init_U]), axis=0))\n",
    "    \n",
    "    # 从参考矩阵中提取r矩阵\n",
    "    for i in range(0, sim_length):\n",
    "        if (i+hz)*outputs > len(ref):   # 如果不够取，那就取到最后的值，而此时hz将变小，须重新计算系数矩阵\n",
    "            r = ref[i*outputs:]\n",
    "            hz_small = hz - ((i+hz)*outputs-len(ref))/outputs\n",
    "            \n",
    "            [Q_bb,T_bb,R_bb,C_bb,A_hh] = bbar(A_tilde,B_tilde,C_tilde,D_tilde, hz_small)\n",
    "            [H_bb, F_bbt] = gradient(C_bb, Q_bb, R_bb, T_bb)\n",
    "            \n",
    "        else:\n",
    "            r = ref[i*outputs: (i+hz)*outputs]\n",
    "    \n",
    "    X_r = np.concatenate((X_aug_T, r), axis=0)   # 行向量，不是矩阵，因此下面矩阵计算时须加[]使其变为矩阵\n",
    "    du = -np.matmul(np.matmul(np.linalg.inv(H_bb), [X_r]), F_bbt)\n",
    "    \n",
    "    init_U = init_U + du[0][0]  # 取预测的第一个ΔU\n",
    "    \n",
    "    # 约束\n",
    "    if init_U < -np.pi/6:\n",
    "        init_U = -np.pi/6\n",
    "    elif init_U > np.pi/6:\n",
    "        init_U = np.pi/6\n",
    "    else:\n",
    "        pass\n",
    "    \n",
    "    U[i+1] = init_U\n",
    "    \n",
    "    # 用预测的U来计算状态量\n",
    "    init_states = predict_states(init_U, init_states, dx)\n",
    "    states[i+1][:]= init_statesi\n",
    "        "
   ]
  },
  {
   "cell_type": "code",
   "execution_count": null,
   "id": "420e06c3",
   "metadata": {},
   "outputs": [],
   "source": []
  },
  {
   "cell_type": "code",
   "execution_count": null,
   "id": "1ec3f026",
   "metadata": {},
   "outputs": [],
   "source": []
  },
  {
   "cell_type": "code",
   "execution_count": null,
   "id": "cda346e3",
   "metadata": {},
   "outputs": [],
   "source": []
  },
  {
   "cell_type": "code",
   "execution_count": null,
   "id": "efffde9e",
   "metadata": {},
   "outputs": [],
   "source": []
  },
  {
   "cell_type": "code",
   "execution_count": null,
   "id": "fcda7716",
   "metadata": {},
   "outputs": [],
   "source": []
  },
  {
   "cell_type": "code",
   "execution_count": null,
   "id": "152068f8",
   "metadata": {},
   "outputs": [],
   "source": []
  },
  {
   "cell_type": "markdown",
   "id": "6ff1d304",
   "metadata": {},
   "source": [
    "參考矩陣，把$\\varphi$和$y$放到一起，\n",
    "$$\n",
    "refSignals=\n",
    "\\begin{bmatrix}\n",
    "  \\varphi_{ref0} & y_{ref0} & \\varphi_{ref0.02} & y_{ref0.02} & \\varphi_{ref0.04} & y_{ref0.04} & \\dots & \\varphi_{ref10} & y_{ref00}\n",
    "\\end{bmatrix}\n",
    "$$"
   ]
  },
  {
   "cell_type": "code",
   "execution_count": null,
   "id": "aef502ab",
   "metadata": {},
   "outputs": [],
   "source": [
    "outputs = 2   # 輸出量個數\n",
    "X_ref = x\n",
    "PHI_ref = phi_ref\n",
    "Y_ref = y\n",
    "refSignals = np.zeros(len(PHI_ref)*outputs)\n",
    "k = 0\n",
    "for i in range(0, len(refSignals), outputs):\n",
    "    refSignals[i] = PHI_ref[k]\n",
    "    refSignals[i+1] = Y_ref[k]\n",
    "    k += 1\n",
    "# print(refSignals)"
   ]
  },
  {
   "cell_type": "markdown",
   "id": "2f36f464",
   "metadata": {},
   "source": [
    "状态量矩阵：\n",
    "$$\n",
    "statesTotal=\n",
    "\\begin{bmatrix}\n",
    "  \\dot{y}_0 & \\varphi_0 & \\dot{\\varphi}_0 & y_0 \\\\\n",
    "  \\dot{y}_{0.02} & \\varphi_{0.02} & \\dot{\\varphi}_{0.02} & y_{0.02} \\\\\n",
    "  \\dot{y}_{0.04} & \\varphi_{0.04} & \\dot{\\varphi}_{0.04} & y_{0.04} \\\\\n",
    "  \\vdots \\\\\n",
    "  \\dot{y}_{10} & \\varphi_{10} & \\dot{\\varphi}_{10} & y_{10} \\\\\n",
    "\\end{bmatrix}\n",
    "$$"
   ]
  },
  {
   "cell_type": "code",
   "execution_count": null,
   "id": "be8b738d",
   "metadata": {},
   "outputs": [],
   "source": [
    "y_dot = 0\n",
    "phi = 0\n",
    "phi_dot = 0\n",
    "y = 0\n",
    "states = np.array([y_dot, phi, phi_dot, y])\n",
    "statesTotal = np.zeros((sim_length, len(states)))\n",
    "# print(states)"
   ]
  },
  {
   "cell_type": "markdown",
   "id": "3a248c70",
   "metadata": {},
   "source": [
    "控制变量矩阵:\n",
    "$$\n",
    "U=\n",
    "\\begin{bmatrix}\n",
    "  \\delta_{0} & \\delta_{0.02} & \\delta_{0.04} & \\dots & \\delta_{10}\n",
    "\\end{bmatrix}\n",
    "$$"
   ]
  },
  {
   "cell_type": "code",
   "execution_count": null,
   "id": "4bdfbd4a",
   "metadata": {},
   "outputs": [],
   "source": [
    "U0 = 0\n",
    "U = np.zeros(len(t))\n",
    "# print(U)"
   ]
  },
  {
   "cell_type": "markdown",
   "id": "a20fd8fa",
   "metadata": {},
   "source": [
    "$$\n",
    "\\begin{aligned}\n",
    "phi\\_opt\\_total&=\n",
    "\\left[\n",
    "\\begin{array}{l}\n",
    "  \\varphi_{0}^{0} & \\varphi_{0}^{1} & \\varphi_{0}^{2} & \\varphi_{0}^{hz} & \\varphi_{0}^{20} \\\\\n",
    "  \\varphi_{0.02}^{0} & \\varphi_{0.02}^{1} & \\varphi_{0.02}^{2} &  & \\varphi_{0.02}^{20} \\\\\n",
    "  \\varphi_{0.04}^{0} & \\varphi_{0.04}^{1} & \\varphi_{0.04}^{2} &  & \\varphi_{0.04}^{20} \\\\\n",
    "  \\varphi_{t}^{0} \\\\\n",
    "  \\varphi_{10}^{0} & \\varphi_{10}^{1} & \\varphi_{10}^{2} &  & \\varphi_{10}^{20} \\\\\n",
    "\\end{array}\n",
    "\\right]\n",
    "\\\\\n",
    "\\\\\n",
    "Y\\_opt\\_total&=\n",
    "\\left[\n",
    "\\begin{array}{l}\n",
    "  Y_{0}^{0} & Y_{0}^{1} & Y_{0}^{2} & Y_{0}^{hz} & Y_{0}^{20} \\\\\n",
    "  Y_{0.02}^{0} & Y_{0.02}^{1} & Y_{0.02}^{2} &  & Y_{0.02}^{20} \\\\\n",
    "  Y_{0.04}^{0} & Y_{0.04}^{1} & Y_{0.04}^{2} &  & Y_{0.04}^{20} \\\\\n",
    "  Y_{t}^{0} \\\\\n",
    "  Y_{10}^{0} & Y_{10}^{1} & Y_{10}^{2} &  & Y_{10}^{20} \\\\\n",
    "\\end{array}\n",
    "\\right]\n",
    "\\end{aligned}\n",
    "$$\n",
    "C\\_opt\\_total是$\\boldsymbol{\\bar{\\bar{C}}}$矩阵\n",
    "$$\n",
    "C\\_opt\\_total=\n",
    "\\left[\n",
    "\\begin{array}{l}\n",
    "  \\begin{bmatrix}\\dot{Y}&{\\varphi}&\\dot\\varphi&y&\\delta\\end{bmatrix}_{0}^{0} & \\begin{bmatrix}\\dot{Y}&{\\varphi}&\\dot\\varphi&y&\\delta\\end{bmatrix}_{0}^{1} & \\begin{bmatrix}\\dot{Y}&{\\varphi}&\\dot\\varphi&y&\\delta\\end{bmatrix}_{0}^{2} & \\begin{bmatrix}\\dot{Y}&{\\varphi}&\\dot\\varphi&y&\\delta\\end{bmatrix}_{0}^{hz} & \\begin{bmatrix}\\dot{Y}&{\\varphi}&\\dot\\varphi&y&\\delta\\end{bmatrix}_{0}^{20} \\\\\n",
    "  \\begin{bmatrix}\\dot{Y}&{\\varphi}&\\dot\\varphi&y&\\delta\\end{bmatrix}_{1}^{0} & \\begin{bmatrix}\\dot{Y}&{\\varphi}&\\dot\\varphi&y&\\delta\\end{bmatrix}_{1}^{1} & \\begin{bmatrix}\\dot{Y}&{\\varphi}&\\dot\\varphi&y&\\delta\\end{bmatrix}_{1}^{2} &  & \\begin{bmatrix}\\dot{Y}&{\\varphi}&\\dot\\varphi&y&\\delta\\end{bmatrix}_{1}^{20} \\\\\n",
    "  \\begin{bmatrix}\\dot{Y}&{\\varphi}&\\dot\\varphi&y&\\delta\\end{bmatrix}_{2}^{0} & \\begin{bmatrix}\\dot{Y}&{\\varphi}&\\dot\\varphi&y&\\delta\\end{bmatrix}_{2}^{1} & \\begin{bmatrix}\\dot{Y}&{\\varphi}&\\dot\\varphi&y&\\delta\\end{bmatrix}_{2}^{2} &  & \\begin{bmatrix}\\dot{Y}&{\\varphi}&\\dot\\varphi&y&\\delta\\end{bmatrix}_{2}^{20} \\\\\n",
    "  \\begin{bmatrix}\\dot{Y}&{\\varphi}&\\dot\\varphi&y&\\delta\\end{bmatrix}_{hz}^{0} \\\\\n",
    "  \\begin{bmatrix}\\dot{Y}&{\\varphi}&\\dot\\varphi&y&\\delta\\end{bmatrix}_{20}^{0} & \\begin{bmatrix}\\dot{Y}&{\\varphi}&\\dot\\varphi&y&\\delta\\end{bmatrix}_{20}^{1} & \\begin{bmatrix}\\dot{Y}&{\\varphi}&\\dot\\varphi&y&\\delta\\end{bmatrix}_{20}^{2} &  & \\begin{bmatrix}\\dot{Y}&{\\varphi}&\\dot\\varphi&y&\\delta\\end{bmatrix}_{20}^{20} \\\\\n",
    "\\end{array}\n",
    "\\right]\n",
    "$$"
   ]
  },
  {
   "cell_type": "code",
   "execution_count": null,
   "id": "26b1d213",
   "metadata": {
    "scrolled": true
   },
   "outputs": [],
   "source": [
    "phi_opt_total = np.zeros((sim_length, hz))\n",
    "Y_opt_total = np.zeros((sim_length, hz))\n",
    "\n",
    "hz = 20\n",
    "C_phi_opt = np.zeros((hz, (len(states)+np.size(U0)) *hz))\n",
    "C_Y_opt = np.zeros((hz, (len(states)+np.size(U0)) *hz))\n",
    "for i in range(0, hz):\n",
    "    C_phi_opt[i][i*5 + 1] = 1\n",
    "    C_Y_opt[i][i*5 + 3] = 1\n",
    "\n",
    "# print(C_Y_opt , '\\n')\n",
    "# print(C_phi_opt , '\\n')"
   ]
  },
  {
   "cell_type": "markdown",
   "id": "03217b0d",
   "metadata": {},
   "source": [
    "預測"
   ]
  },
  {
   "cell_type": "code",
   "execution_count": null,
   "id": "2f1155bd",
   "metadata": {},
   "outputs": [],
   "source": [
    "outputs = 2  # 输出量个数\n",
    "k = 0\n",
    "hz_const = hz\n",
    "for i in range(0, sim_length-1):\n",
    "    x_aug_t = np.transpose([np.concatenate((states, [U0]), axis=0)]) # [dy phi dphi y delta]_0\n",
    "    \n",
    "    k += outputs\n",
    "    if k + outputs*hz <= len(refSignals):\n",
    "        r = refSignals[k: k+outputs*hz]\n",
    "    else:\n",
    "        r = refSignals[k: len(refSignals)]\n",
    "        hz -= 1\n",
    "    \n",
    "    if hz < hz_const:\n",
    "        pass\n",
    "print(len(x_aug_t))"
   ]
  },
  {
   "cell_type": "code",
   "execution_count": null,
   "id": "e355851f",
   "metadata": {},
   "outputs": [],
   "source": [
    "import support_file_car_zqq as sfc"
   ]
  },
  {
   "cell_type": "code",
   "execution_count": null,
   "id": "92fbf727",
   "metadata": {},
   "outputs": [],
   "source": [
    "a = np.zeros((1, 2))\n",
    "b = np.ones((2,2))\n",
    "print(a, '\\n', b)\n",
    "print(len(a))"
   ]
  },
  {
   "cell_type": "code",
   "execution_count": null,
   "id": "5c908986",
   "metadata": {},
   "outputs": [],
   "source": []
  },
  {
   "cell_type": "code",
   "execution_count": null,
   "id": "413a1c6a",
   "metadata": {},
   "outputs": [],
   "source": []
  },
  {
   "cell_type": "code",
   "execution_count": null,
   "id": "bdf9c44f",
   "metadata": {},
   "outputs": [],
   "source": []
  },
  {
   "cell_type": "code",
   "execution_count": null,
   "id": "aa9fd7c4",
   "metadata": {},
   "outputs": [],
   "source": []
  },
  {
   "cell_type": "code",
   "execution_count": null,
   "id": "f8d0b253",
   "metadata": {},
   "outputs": [],
   "source": []
  },
  {
   "cell_type": "code",
   "execution_count": null,
   "id": "a8321b6a",
   "metadata": {},
   "outputs": [],
   "source": []
  },
  {
   "cell_type": "code",
   "execution_count": null,
   "id": "ae511316",
   "metadata": {},
   "outputs": [],
   "source": []
  },
  {
   "cell_type": "markdown",
   "id": "468717ac",
   "metadata": {},
   "source": [
    "5条车道，每条车道宽7m"
   ]
  },
  {
   "cell_type": "code",
   "execution_count": null,
   "id": "b8a640c3",
   "metadata": {},
   "outputs": [],
   "source": []
  }
 ],
 "metadata": {
  "kernelspec": {
   "display_name": "Python 3 (ipykernel)",
   "language": "python",
   "name": "python3"
  },
  "language_info": {
   "codemirror_mode": {
    "name": "ipython",
    "version": 3
   },
   "file_extension": ".py",
   "mimetype": "text/x-python",
   "name": "python",
   "nbconvert_exporter": "python",
   "pygments_lexer": "ipython3",
   "version": "3.9.16"
  }
 },
 "nbformat": 4,
 "nbformat_minor": 5
}
