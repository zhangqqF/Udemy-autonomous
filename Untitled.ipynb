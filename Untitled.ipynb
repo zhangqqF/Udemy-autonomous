{
 "cells": [
  {
   "cell_type": "markdown",
   "id": "be56ca23",
   "metadata": {},
   "source": [
    "# Udemy autonomous car 1"
   ]
  },
  {
   "cell_type": "markdown",
   "id": "e213546f",
   "metadata": {},
   "source": [
    ">zhangqq  \n",
    "May-12, 2023  \n",
    "Chongqing"
   ]
  },
  {
   "cell_type": "markdown",
   "id": "07437262",
   "metadata": {},
   "source": [
    "1. 導入包"
   ]
  },
  {
   "cell_type": "code",
   "execution_count": 1,
   "id": "d74779a7",
   "metadata": {},
   "outputs": [],
   "source": [
    "import numpy as np\n",
    "import matplotlib.pyplot as plt\n",
    "import matplotlib.gridspec as gridspec\n",
    "import matplotlib.animation as animation"
   ]
  },
  {
   "cell_type": "markdown",
   "id": "a0e2451b",
   "metadata": {},
   "source": [
    "2. 計算時間、預測時域"
   ]
  },
  {
   "cell_type": "code",
   "execution_count": 211,
   "id": "571fc116",
   "metadata": {},
   "outputs": [],
   "source": [
    "Ts = 0.02\n",
    "time_length = 10\n",
    "t = np.arange(0, time_length + Ts, Ts)\n",
    "Np = 20"
   ]
  },
  {
   "cell_type": "markdown",
   "id": "7eafedec",
   "metadata": {},
   "source": [
    "3. 車輛縱向速度恆定 20m/s"
   ]
  },
  {
   "cell_type": "code",
   "execution_count": 212,
   "id": "e28ab384",
   "metadata": {},
   "outputs": [],
   "source": [
    "dX = 20\n",
    "X = np.linspace(0, dX*time_length, len(t))"
   ]
  },
  {
   "cell_type": "markdown",
   "id": "607a8a1e",
   "metadata": {},
   "source": [
    "構造參考轨迹:\n",
    "- 第一種軌跡\n",
    "$$\n",
    "y=-9\n",
    "$$\n",
    "- 第二種軌跡\n",
    "$$\n",
    "y=9\\tanh(t-5)\n",
    "$$\n",
    "- 第二種軌跡\n",
    "$$\n",
    "\\begin{aligned}\n",
    "    y1&=a(f-100+x)^2+b \\\\\n",
    "    y2&=2r\\sin(2f\\pi x) \\\\\\\\\n",
    "    y&=(y1+y2)/2 \\\\\n",
    "\\end{aligned}\n",
    "$$\n",
    "不需理会这些参数，只需记住该曲线是函数生成即可"
   ]
  },
  {
   "cell_type": "code",
   "execution_count": 215,
   "id": "fc5dc222",
   "metadata": {},
   "outputs": [
    {
     "data": {
      "image/png": "[encoded data removed]",
      "text/plain": [
       "<Figure size 640x480 with 1 Axes>"
      ]
     },
     "metadata": {},
     "output_type": "display_data"
    }
   ],
   "source": [
    "trajectory = 2\n",
    "if trajectory == 1:\n",
    "    Y = -9*np.ones(len(t))\n",
    "elif trajectory == 2:\n",
    "    Y = 9*np.tanh(t-t[-1]/2)\n",
    "elif trajectory == 3:\n",
    "    a = -28/100**2 / 1.1\n",
    "    if a < 0:\n",
    "        b = 14\n",
    "    else:\n",
    "        b = -14\n",
    "    f = 0.01\n",
    "    r = 4\n",
    "    y1 = a*(f - 100 + x)**2 + b\n",
    "    y2 = 2*r*np.sin(2*np.pi*f*x)\n",
    "    Y = (y1 + y2)/2\n",
    "else:\n",
    "    print('For trajectory, you can choose 1, 2, or 3 as an integer value to fuck')\n",
    "    exit()\n",
    "plt.plot(x, y)\n",
    "plt.show()"
   ]
  },
  {
   "cell_type": "code",
   "execution_count": 216,
   "id": "7beee492",
   "metadata": {},
   "outputs": [],
   "source": [
    "dX = X[1:len(x)] - X[0:len(x)-1]\n",
    "dY = Y[1:len(y)] - Y[0:len(y)-1]\n",
    "# dx, dy比x, y少一个"
   ]
  },
  {
   "cell_type": "markdown",
   "id": "884d5793",
   "metadata": {},
   "source": [
    "注意：np.zeros((3))生成的是矩阵，而np.zeros(3)是行向量\n",
    "\n",
    "acrtan2而非arctan"
   ]
  },
  {
   "cell_type": "code",
   "execution_count": 62,
   "id": "dc73d67b",
   "metadata": {},
   "outputs": [],
   "source": [
    "phi = np.zeros(len(x))\n",
    "phi[0] = np.arctan2(dy[0], dx[0])\n",
    "phi[1:] = np.arctan2(dy[:], dx[:])  # φ使维度等同于x，y，取前两项相同"
   ]
  },
  {
   "cell_type": "markdown",
   "id": "2f1eff76",
   "metadata": {},
   "source": [
    "如果$\\pi<\\Delta\\varphi<-\\pi$，则应改为其补角，这也是此处需要计算$\\Delta\\varphi$的原因"
   ]
  },
  {
   "cell_type": "code",
   "execution_count": 76,
   "id": "57c9833a",
   "metadata": {},
   "outputs": [],
   "source": [
    "dphi = phi[1:] - phi[:-1]  # 与dx，dy写法的结果是一样的\n",
    "phi_ref = phi\n",
    "for i in range(1, len(phi)):\n",
    "    if dphi[i-1] < -np.pi:\n",
    "        phi_ref[i] = phi_ref[i-1] + (dphi[i-1] + 2*np.pi)\n",
    "    elif dphi[i-1] > np.pi:\n",
    "        phi_ref[i] = phi_ref[i-1] + (dphi[i-1] - 2*np.pi)\n",
    "    else:\n",
    "        phi_ref[i] = phi_ref[i-1] + dphi[i-1]"
   ]
  },
  {
   "cell_type": "markdown",
   "id": "9217edd3",
   "metadata": {},
   "source": [
    "反正切函数"
   ]
  },
  {
   "cell_type": "markdown",
   "id": "80123ba7",
   "metadata": {},
   "source": [
    "## 公式推導"
   ]
  },
  {
   "cell_type": "markdown",
   "id": "541f0789",
   "metadata": {},
   "source": [
    "**動力學方程：**"
   ]
  },
  {
   "cell_type": "markdown",
   "id": "9437abf8",
   "metadata": {},
   "source": [
    "- 旋轉部分造成的側向：\n",
    "$$\n",
    "\\left\\{\n",
    "    \\begin{array}{ll}\n",
    "\t\tF_{yf}+F_{yf}=m(\\ddot{y}+\\dot{x}\\dot{\\varphi}) \\\\\n",
    "\t\tF_{yf}\\cdot{L_f}-F_{yr}\\cdot{L_r}=I\\ddot{\\varphi}\n",
    "    \\end{array}\n",
    "\\right.\n",
    "$$"
   ]
  },
  {
   "cell_type": "markdown",
   "id": "e537ab20",
   "metadata": {},
   "source": [
    "- 考虑轮胎侧偏（轮胎小侧偏角假设）：\n",
    "$$\\left\\{\n",
    "    \\begin{array}{ll}\n",
    "\t\tF_{yf}=2C_{Lf}(\\delta-\\theta_{vf}) \\\\\n",
    "\t\tF_{yr}=2C_{Lr}(-\\theta_{vr})\n",
    "    \\end{array}\n",
    "\\right.\n",
    "$$"
   ]
  },
  {
   "cell_type": "markdown",
   "id": "a7d57edb",
   "metadata": {},
   "source": [
    "- 轉向小角度假設：\n",
    "$$\n",
    "\\left\\{\n",
    "\t\\begin{array}{ll}\n",
    "\t\t\\tan{\\theta_{vf}} \\approx \\theta_{vf}=\\frac{\\dot{y}+L_{f}\\dot{\\varphi}}{\\dot{x}} \\\\\n",
    "\t\t\\tan{\\theta_{vr}} \\approx \\theta_{vr}=\\frac{\\dot{y}-L_{r}\\dot{\\varphi}}{\\dot{x}}\n",
    "\t\\end{array}\n",
    "\\right.\n",
    "$$"
   ]
  },
  {
   "cell_type": "markdown",
   "id": "4cc62629",
   "metadata": {},
   "source": [
    "聯立，寫成如下矩陣：\n",
    "$$\n",
    "\\begin{bmatrix}\n",
    "    \\ddot{y} \\\\\n",
    "    \\ddot{\\varphi}\n",
    "\\end{bmatrix}\n",
    "=\n",
    "\\begin{bmatrix}\n",
    "    a & b \\\\\n",
    "    c & d\n",
    "\\end{bmatrix}\n",
    "\\begin{bmatrix}\n",
    "    \\dot{y} \\\\\n",
    "    \\dot{\\varphi}\n",
    "\\end{bmatrix}\n",
    "+\n",
    "\\begin{bmatrix}\n",
    "    e \\\\\n",
    "    f\n",
    "\\end{bmatrix} \\delta\n",
    "$$"
   ]
  },
  {
   "cell_type": "markdown",
   "id": "e8fe92d6",
   "metadata": {},
   "source": [
    "- 其中：\n",
    "$$\n",
    "\\begin{aligned}\n",
    "    a&=-\\frac{2C_{Lf}+2C_{Lr}}{\\dot{x}m} \\\\ \\\\\n",
    "    b&=\\frac{-2C_{Lf}L_{f}+2C_{Lr}L_r}{\\dot{x}m}-\\dot{x} \\\\ \\\\\n",
    "    c&=\\frac{-2C_{Lf}L_{f}+2C_{Lr}L_{r}}{\\dot{x}I_z} \\\\ \\\\\n",
    "    d&=\\frac{-2C_{Lf}L_{f}^2-2C_{Lr}L_{r}^2}{\\dot{x}I_z} \\\\ \\\\\n",
    "    e&=\\frac{2C_{Lf}}{m} \\\\ \\\\\n",
    "    f&=\\frac{2C_{Lf}L_{f}}{I_z}\n",
    "\\end{aligned}\n",
    "$$"
   ]
  },
  {
   "cell_type": "code",
   "execution_count": 156,
   "id": "d38bf385",
   "metadata": {},
   "outputs": [],
   "source": [
    "Clf = 19000\n",
    "Clr = 30000\n",
    "m = 1500\n",
    "x_dot = 20\n",
    "Lf = 2\n",
    "Lr = 3\n",
    "Iz = 30000\n",
    "\n",
    "a = -(2*Clf + 2*Clr) / (x_dot*m)\n",
    "b = (-2*Clf*Lf + 2*Clr*Lr) / (x_dot*Iz) - x_dot\n",
    "c = (-2*Clf*Lf + 2*Clr*Lr) / (x_dot*Iz)\n",
    "d = (-2*Clf*Lf**2 - 2*Clr*Lr**2)/ (x_dot*Iz)\n",
    "e = 2*Clf / m\n",
    "f = 2*Clf*Lf / Iz"
   ]
  },
  {
   "cell_type": "markdown",
   "id": "958c0ea2",
   "metadata": {},
   "source": [
    "增加$\\varphi$、$y$兩個狀態量：\n",
    "$$\n",
    "\\left.\n",
    "    \\begin{array}{ll}\n",
    "\t\t \\ddot{y}=a\\dot{y}+b\\dot{\\varphi}+e\\delta \\\\\n",
    "      \\ddot{\\varphi}=c\\dot{y}+d\\dot{\\varphi}+f\\delta \\\\\n",
    "      \\dot{\\varphi}=\\dot{\\varphi} \\\\\n",
    "      \\dot{y}=\\dot{y}\\cos(\\varphi)+\\dot{x}\\sin(\\varphi)\n",
    "    \\end{array}\n",
    "\\right.\n",
    "$$"
   ]
  },
  {
   "cell_type": "markdown",
   "id": "a44fba3b",
   "metadata": {},
   "source": [
    "小轉角假設，使$\\cos(\\varphi)\\approx1$、$\\sin(\\varphi)\\approx0$，然後寫成矩陣形式：\n",
    "$$\n",
    "\\begin{bmatrix}\n",
    "    \\ddot{y} \\\\\n",
    "    \\dot{\\varphi} \\\\\n",
    "    \\ddot{\\varphi} \\\\\n",
    "    \\dot{y}\n",
    "\\end{bmatrix}\n",
    "=\n",
    "\\begin{bmatrix}\n",
    "    a & 0 & b & 0 \\\\\n",
    "    0 & 0 & 1 & 0 \\\\\n",
    "    c & 0 & d & 0 \\\\\n",
    "    1 & \\dot{x} & 0 & 0\n",
    "\\end{bmatrix}\n",
    "\\begin{bmatrix}\n",
    "    \\dot{y} \\\\\n",
    "    \\varphi \\\\\n",
    "    \\dot{\\varphi} \\\\\n",
    "     y\n",
    "\\end{bmatrix}\n",
    "+\n",
    "\\begin{bmatrix}\n",
    "    e \\\\\n",
    "    0 \\\\\n",
    "    f \\\\\n",
    "    0\n",
    "\\end{bmatrix} \\delta\n",
    "$$"
   ]
  },
  {
   "cell_type": "markdown",
   "id": "b897435e",
   "metadata": {},
   "source": [
    "$$\n",
    "\\begin{bmatrix}\n",
    "    \\varphi \\\\\n",
    "     y\n",
    "\\end{bmatrix}\n",
    "=\n",
    "\\begin{bmatrix}\n",
    "   0 & 1 & 0 & 0 \\\\\n",
    "   0 & 0 & 0 & 1 \\\\\n",
    "\\end{bmatrix}\n",
    "\\begin{bmatrix}\n",
    "    \\dot{y} \\\\\n",
    "    \\varphi \\\\\n",
    "    \\dot{\\varphi} \\\\\n",
    "     y\n",
    "\\end{bmatrix}\n",
    "+\n",
    "\\begin{bmatrix}\n",
    "   0 \\\\\n",
    "   0\n",
    "\\end{bmatrix} \\delta\n",
    "$$"
   ]
  },
  {
   "cell_type": "markdown",
   "id": "b6f022f4",
   "metadata": {},
   "source": [
    "- 即：\n",
    "$$\n",
    "\\boldsymbol{\\dot{X}}=\\boldsymbol{A}\\boldsymbol{X}+\\boldsymbol{B}\\delta \\\\\n",
    "\\boldsymbol{Y}=\\boldsymbol{C}\\boldsymbol{X}+\\boldsymbol{D}\\delta\n",
    "$$"
   ]
  },
  {
   "cell_type": "code",
   "execution_count": 108,
   "id": "95422ca5",
   "metadata": {},
   "outputs": [],
   "source": [
    "A = np.array([[a, 0, b, 0],\n",
    "              [0, 0, 1, 0],\n",
    "              [c, 0, d, 0],\n",
    "              [1, x_dot, 0, 0]])\n",
    "B = np.transpose(np.array([[e, 0, f, 0]]))\n",
    "C = np.array([[0, 1, 0, 0],\n",
    "              [0, 0, 0, 1]])\n",
    "D = 0\n",
    "# print(A, '\\n')\n",
    "# print(B, '\\n')\n",
    "# print(C)"
   ]
  },
  {
   "cell_type": "markdown",
   "id": "fc6e460d",
   "metadata": {},
   "source": [
    "**離散化：**  \n",
    "將連續性方程$\\boldsymbol{\\dot{X}}=\\boldsymbol{A}\\boldsymbol{X}+\\boldsymbol{B}\\delta$離散化，得：\n",
    "$$\n",
    "\\begin{aligned}\n",
    "    \\boldsymbol{\\dot{X}}_{k+1}&=\\boldsymbol{X}_{k}+\\boldsymbol{A}Ts\\boldsymbol{X}_{k}+\\boldsymbol{B}Ts\\delta_k \\\\\n",
    "    &=(\\boldsymbol{I}+\\boldsymbol{A}Ts)\\boldsymbol{X}_k+\\boldsymbol{B}Ts\\delta_k\n",
    "\\end{aligned}\n",
    "$$"
   ]
  },
  {
   "cell_type": "markdown",
   "id": "aec717cc",
   "metadata": {},
   "source": [
    "- 即：\n",
    "$$\n",
    "\\boldsymbol{\\dot{X}}_{k+1}=\\boldsymbol{A_d}\\boldsymbol{X}_k+\\boldsymbol{B_d}\\delta_k\n",
    "$$\n",
    "其中：\n",
    "$$\n",
    "\\begin{aligned}\n",
    "    \\boldsymbol{A_d}&=\\boldsymbol{I}+\\boldsymbol{A}Ts \\\\\n",
    "    \\boldsymbol{B_d}&=\\boldsymbol{B}Ts \\\\\n",
    "    \\boldsymbol{C_d}&=\\boldsymbol{C} \\\\\n",
    "    \\boldsymbol{D_d}&=\\boldsymbol{D} \n",
    "\\end{aligned}\n",
    "$$"
   ]
  },
  {
   "cell_type": "code",
   "execution_count": 118,
   "id": "18ccb371",
   "metadata": {},
   "outputs": [],
   "source": [
    "Ad = np.identity(A.shape[0]) + A*Ts # 注意单位矩阵是方阵\n",
    "Bd = B*Ts\n",
    "Cd = C\n",
    "Dd = D\n",
    "# print(Ad)"
   ]
  },
  {
   "cell_type": "markdown",
   "id": "bdcd1d9d",
   "metadata": {},
   "source": [
    "用$\\Delta\\delta$代替$\\delta$，得：\n",
    "$$\n",
    "\\left\\{\n",
    "  \\begin{array}\n",
    "    \\boldsymbol{X}_{k+1}=\\boldsymbol{A_{d}X}+\\boldsymbol{B}\\delta_{k-1}+\\boldsymbol{B}\\Delta\\delta \\\\\n",
    "    \\delta_k=\\delta_{k-1}+\\Delta\\delta\n",
    "  \\end{array}\n",
    "\\right.\n",
    "$$"
   ]
  },
  {
   "cell_type": "markdown",
   "id": "4e3f9f74",
   "metadata": {},
   "source": [
    "- 寫成矩陣：\n",
    "$$\n",
    "\\begin{bmatrix}\n",
    "  \\boldsymbol{X}_{k+1} \\\\\n",
    "  \\delta_k\n",
    "\\end{bmatrix}\n",
    "=\n",
    "\\begin{bmatrix}\n",
    "  \\boldsymbol{A_d} & \\boldsymbol{B_d} \\\\\n",
    "  \\boldsymbol{0} & \\boldsymbol{I}\n",
    "\\end{bmatrix}\n",
    "\\begin{bmatrix}\n",
    "  \\boldsymbol{X} \\\\\n",
    "  \\delta_{k-1}\n",
    "\\end{bmatrix}\n",
    "+\n",
    "\\begin{bmatrix}\n",
    "  \\boldsymbol{B_d} \\\\\n",
    "  \\boldsymbol{I}\n",
    "\\end{bmatrix}\\Delta\\delta\n",
    "$$\n",
    "輸出矩陣：\n",
    "$$\n",
    "\\boldsymbol{y}_k=\n",
    "\\begin{bmatrix}\n",
    "  \\varphi \\\\\n",
    "  y\n",
    "\\end{bmatrix}\n",
    "=\n",
    "\\begin{bmatrix}\n",
    "  \\boldsymbol{C} \\\\\n",
    "  \\boldsymbol{0}\n",
    "\\end{bmatrix}\n",
    "\\begin{bmatrix}\n",
    "\\delta_k \\\\\n",
    "\\delta_{k-1}\n",
    "\\end{bmatrix}\n",
    "+\n",
    "0\n",
    "$$"
   ]
  },
  {
   "cell_type": "markdown",
   "id": "737dbab5",
   "metadata": {},
   "source": [
    "- 即：\n",
    "$$\n",
    "\\boldsymbol{\\tilde{X}}_{k+1}=\\boldsymbol{\\tilde{A}}\\boldsymbol{\\tilde{X}}_k+\\boldsymbol{\\tilde{B}}\\Delta\\delta\n",
    "$$\n",
    "其中：\n",
    "$$\n",
    "\\begin{aligned}\n",
    "  \\boldsymbol{\\tilde{A}}&=\n",
    "    \\begin{bmatrix}\n",
    "      \\boldsymbol{A_d} & \\boldsymbol{B_d} \\\\\n",
    "      \\boldsymbol{0} & \\boldsymbol{I}\n",
    "    \\end{bmatrix}\n",
    "    \\\\\n",
    "  \\boldsymbol{\\tilde{B}}&=\n",
    "    \\begin{bmatrix}\n",
    "      \\boldsymbol{B_d} \\\\\n",
    "      \\boldsymbol{I}\n",
    "    \\end{bmatrix}\n",
    "    \\\\\n",
    "  \\boldsymbol{\\tilde{C}}&=\n",
    "  \\begin{bmatrix}\n",
    "    \\boldsymbol{C} & \\boldsymbol{0}\n",
    "  \\end{bmatrix}\n",
    "\\end{aligned}\n",
    "$$"
   ]
  },
  {
   "cell_type": "code",
   "execution_count": 119,
   "id": "db320339",
   "metadata": {},
   "outputs": [
    {
     "name": "stdout",
     "output_type": "stream",
     "text": [
      "[[ 0.93466667  0.         -0.39653333  0.          0.50666667]\n",
      " [ 0.          1.          0.02        0.          0.        ]\n",
      " [ 0.00346667  0.          0.97693333  0.          0.05066667]\n",
      " [ 0.02        0.4         0.          1.          0.        ]\n",
      " [ 0.          0.          0.          0.          1.        ]] \n",
      "\n",
      "[[0.50666667]\n",
      " [0.        ]\n",
      " [0.05066667]\n",
      " [0.        ]\n",
      " [1.        ]] \n",
      "\n",
      "[[0. 1. 0. 0. 0.]\n",
      " [0. 0. 0. 1. 0.]] \n",
      "\n"
     ]
    }
   ],
   "source": [
    "temp_AB = np.concatenate((Ad, Bd), axis=1)\n",
    "temp_0 = np.zeros((Bd.shape[1], Ad.shape[1]))\n",
    "temp_I = np.identity(Bd.shape[1])\n",
    "temp_0I = np.concatenate((temp_0, temp_I), axis=1)\n",
    "A_tilde = np.concatenate((temp_AB, temp_0I), axis=0)\n",
    "\n",
    "B_tilde = np.concatenate((Bd, np.identity(Bd.shape[1])), axis=0)\n",
    "C_tilde = np.concatenate((C, np.zeros((C.shape[0], Bd.shape[1]))), axis=1)\n",
    "D_tide = Dd\n",
    "print(A_tilde, '\\n')\n",
    "print(B_tilde, '\\n')\n",
    "print(C_tilde, '\\n')"
   ]
  },
  {
   "cell_type": "markdown",
   "id": "ac45d323",
   "metadata": {},
   "source": [
    "**最小化：**  \n",
    "cost function:\n",
    "$$\n",
    "J=\\frac{1}{2}e^T_{k+N}Se_{k+N}+\\frac{1}{2}\\sum\\limits_{i=0}^{N-1}[e^T_{k+i}Qe_{k+1}+\\delta^T_{k+1}R\\delta_{k+1}]\n",
    "$$"
   ]
  },
  {
   "cell_type": "markdown",
   "id": "08c8d2b7",
   "metadata": {},
   "source": [
    "此函數是$\\boldsymbol{\\tilde{X}}_{k+1}=\\boldsymbol{\\tilde{A}}\\boldsymbol{\\tilde{X}}_k+\\boldsymbol{\\tilde{B}}\\Delta\\delta\n",
    "$預測展開的二次型"
   ]
  },
  {
   "cell_type": "markdown",
   "id": "a91ba32f",
   "metadata": {},
   "source": [
    "用误差代替状态量和控制量，得：\n",
    "$$\n",
    "J'=\\frac{1}{2}\\boldsymbol{\\tilde{X}}^T\\bar{\\bar{Q}}\\boldsymbol{\\tilde{X}}-\\boldsymbol{r}^T\\boldsymbol{\\bar{\\bar{T}}}\\boldsymbol{\\tilde{X}}+\\frac{1}{2}\\Delta\\delta\\boldsymbol{\\bar{\\bar{R}}}\\Delta\\delta\n",
    "$$"
   ]
  },
  {
   "cell_type": "markdown",
   "id": "2b676a1c",
   "metadata": {},
   "source": [
    "- 其中：\n",
    "$$\n",
    "\\begin{aligned}\n",
    "\\boldsymbol{\\bar{\\bar{Q}}}&=\n",
    "\\begin{bmatrix}\n",
    "  \\boldsymbol{\\tilde{C}}^T\\boldsymbol{Q\\tilde{C}} &  &  & \\\\\n",
    "   & \\boldsymbol{\\tilde{C}}^T\\boldsymbol{Q\\tilde{C}} &  & \\\\\n",
    "   &  &  & \\ddots & \\\\\n",
    "   &  &  & & \\boldsymbol{\\tilde{C}}^T\\boldsymbol{S\\tilde{C}}\n",
    "\\end{bmatrix}\n",
    "\\\\\n",
    "\\boldsymbol{\\bar{\\bar{T}}}&=\n",
    "\\begin{bmatrix}\n",
    "  \\boldsymbol{Q\\tilde{C}} &  &  & \\\\\n",
    "   & \\boldsymbol{Q\\tilde{C}} &  & \\\\\n",
    "   &  &  & \\ddots & \\\\\n",
    "   &  &  & & \\boldsymbol{S\\tilde{C}}\n",
    "\\end{bmatrix}\n",
    "\\\\\n",
    "\\boldsymbol{\\bar{\\bar{R}}}&=\n",
    "\\begin{bmatrix}\n",
    "  \\boldsymbol{R} &  &  & \\\\\n",
    "   & \\boldsymbol{R} &  & \\\\\n",
    "   &  &  & \\ddots & \\\\\n",
    "   &  &  & & \\boldsymbol{R}\n",
    "\\end{bmatrix}\n",
    "\\end{aligned}\n",
    "$$"
   ]
  },
  {
   "cell_type": "markdown",
   "id": "784c4bad",
   "metadata": {},
   "source": [
    "预测展开$\\boldsymbol{\\tilde{X}}_{k+1}=\\boldsymbol{\\tilde{A}}\\boldsymbol{\\tilde{X}}_k+\\boldsymbol{\\tilde{B}}\\Delta\\delta\n",
    "$，得：\n",
    "$$\n",
    "\\begin{bmatrix}\n",
    "  \\boldsymbol{\\tilde{X}}_{k+1} \\\\\n",
    "  \\boldsymbol{\\tilde{X}}_{k+2} \\\\\n",
    "  \\boldsymbol{\\tilde{X}}_{k+3} \\\\\n",
    "  \\vdots \\\\\n",
    "  \\boldsymbol{\\tilde{X}}_{k+N} \\\\\n",
    "\\end{bmatrix}\n",
    "=\n",
    "\\begin{bmatrix}\n",
    "  \\boldsymbol{\\tilde{A}}_{1} \\\\\n",
    "  \\boldsymbol{\\tilde{A}}_{2} \\\\\n",
    "  \\boldsymbol{\\tilde{A}}_{3} \\\\\n",
    "  \\vdots \\\\\n",
    "  \\boldsymbol{\\tilde{A}}_{N} \\\\\n",
    "\\end{bmatrix}\\boldsymbol{\\tilde{X}}\n",
    "+\n",
    "\\begin{bmatrix}\n",
    "  \\boldsymbol{\\tilde{B}} & & & &  \\\\\n",
    "  \\boldsymbol{\\tilde{A}}\\boldsymbol{\\tilde{B}} & \\boldsymbol{\\tilde{B}} & & & \\\\\n",
    "  \\boldsymbol{\\tilde{A}}^2\\boldsymbol{\\tilde{B}} & \\boldsymbol{\\tilde{A}}\\boldsymbol{\\tilde{B}} & \\boldsymbol{\\tilde{B}} & & \\\\\n",
    "  \\vdots & & & &\\\\\n",
    "  \\boldsymbol{\\tilde{A}}^{N-1}\\boldsymbol{\\tilde{B}} & \\dots & \\boldsymbol{\\tilde{A}}^{i}\\boldsymbol{\\tilde{B}} & \\dots & \\boldsymbol{\\tilde{B}}\\\\\n",
    "\\end{bmatrix}\n",
    "\\begin{bmatrix}\n",
    "  \\Delta\\delta_{k} \\\\\n",
    "  \\Delta\\delta_{k+1} \\\\\n",
    "  \\Delta\\delta_{k+2} \\\\\n",
    "  \\vdots \\\\\n",
    "  \\Delta\\delta_{N-1} \\\\\n",
    "\\end{bmatrix}\n",
    "$$"
   ]
  },
  {
   "cell_type": "markdown",
   "id": "d4af093f",
   "metadata": {},
   "source": [
    "- 即：\n",
    "$$\n",
    "\\boldsymbol{\\tilde{X}}=\\boldsymbol{\\hat{\\hat{A}}}\\boldsymbol{\\tilde{X}}+\\boldsymbol{\\bar{\\bar{C}}}\\boldsymbol{\\Delta\\delta}\n",
    "$$"
   ]
  },
  {
   "cell_type": "code",
   "execution_count": 121,
   "id": "3f64506c",
   "metadata": {},
   "outputs": [],
   "source": [
    "Q = np.matrix('100 0; 0 1')\n",
    "S = np.matrix('100 0; 0 1')\n",
    "R = np.matrix('100')\n",
    "# print(Q)"
   ]
  },
  {
   "cell_type": "code",
   "execution_count": 123,
   "id": "f72043c8",
   "metadata": {},
   "outputs": [
    {
     "name": "stdout",
     "output_type": "stream",
     "text": [
      "[[  0.   0.   0.   0.   0.]\n",
      " [  0. 100.   0.   0.   0.]\n",
      " [  0.   0.   0.   0.   0.]\n",
      " [  0.   0.   0.   1.   0.]\n",
      " [  0.   0.   0.   0.   0.]] \n",
      "\n",
      "[[  0. 100.   0.   0.   0.]\n",
      " [  0.   0.   0.   1.   0.]] \n",
      "\n"
     ]
    }
   ],
   "source": [
    "CQC = np.matmul(np.matmul(np.transpose(C_tilde), Q), C_tilde)\n",
    "CSC = np.matmul(np.matmul(np.transpose(C_tilde), S), C_tilde)\n",
    "QC = np.matmul(Q, C_tilde)\n",
    "SC = np.matmul(S, C_tilde)\n",
    "print(CQC, '\\n')\n",
    "print(QC, '\\n')"
   ]
  },
  {
   "cell_type": "markdown",
   "id": "be646ccb",
   "metadata": {},
   "source": [
    "初始化$\\boldsymbol{\\bar{\\bar{Q}}}$、$\\boldsymbol{\\bar{\\bar{T}}}$、$\\boldsymbol{\\bar{\\bar{Q}}}$、$\\boldsymbol{\\bar{\\bar{R}}}$、$\\boldsymbol{\\bar{\\bar{C}}}$、$\\boldsymbol{\\hat{\\hat{A}}}$并循环赋值"
   ]
  },
  {
   "cell_type": "code",
   "execution_count": 128,
   "id": "42c37906",
   "metadata": {},
   "outputs": [],
   "source": [
    "hz = 20\n",
    "Q_bb = np.zeros((CQC.shape[0]*hz, CQC.shape[1]*hz))  # hz, duration period其實就是Np\n",
    "T_bb = np.zeros((QC.shape[0]*hz, QC.shape[1]*hz))\n",
    "R_bb = np.zeros((R.shape[0]*hz, R.shape[1]*hz))\n",
    "C_bb = np.zeros((B_tilde.shape[0]*hz, B_tilde.shape[1]*hz))\n",
    "A_hh = np.zeros((A_tilde.shape[0]*hz, A_tilde.shape[1]))"
   ]
  },
  {
   "cell_type": "code",
   "execution_count": 140,
   "id": "8ecefbee",
   "metadata": {},
   "outputs": [],
   "source": [
    "for i in range(0, hz):\n",
    "    if i == hz-1:\n",
    "        Q_bb[CQC.shape[0]*i:CQC.shape[0]*i+CQC.shape[0], CQC.shape[1]*i:CQC.shape[1]*i+CQC.shape[1]] = CSC\n",
    "        T_bb[QC.shape[0]*i:QC.shape[0]*i+QC.shape[0], QC.shape[1]*i:QC.shape[1]*i+QC.shape[1]] = SC\n",
    "    else:\n",
    "        Q_bb[CQC.shape[0]*i:CQC.shape[0]*i+CQC.shape[0], CQC.shape[1]*i:CQC.shape[1]*i+CQC.shape[1]] = CQC\n",
    "        T_bb[QC.shape[0]*i:QC.shape[0]*i+QC.shape[0], QC.shape[1]*i:QC.shape[1]*i+QC.shape[1]] = QC\n",
    "        \n",
    "    R_bb[R.shape[0]*i:R.shape[0]*i+R.shape[0], R.shape[1]*i:R.shape[1]*i+R.shape[1]] = R\n",
    "    A_hh[A_tilde.shape[0]*i:A_tilde.shape[0]*i+A_tilde.shape[0], :] = np.linalg.matrix_power(A_tilde, i+1)\n",
    "    \n",
    "    for j in range(0, hz):\n",
    "        if j <= i:\n",
    "            AB = np.matmul(np.linalg.matrix_power(A_tilde, i-j), B_tilde)\n",
    "            C_bb[B_tilde.shape[0]*i:B_tilde.shape[0]*i+B_tilde.shape[0], B_tilde.shape[1]*i:B_tilde.shape[1]*i+B_tilde.shape[1]] = AB\n",
    "# print(Q_bb, '\\ng')\n",
    "# print(T_bb, '\\n')\n",
    "# print(R_bb, '\\n')\n",
    "# print(C_bb, '\\n')\n",
    "# print(A_hh, '\\n')"
   ]
  },
  {
   "cell_type": "markdown",
   "id": "ea4a4d36",
   "metadata": {},
   "source": [
    "將$\\boldsymbol{\\tilde{X}}=\\boldsymbol{\\hat{\\hat{A}}}\\boldsymbol{\\tilde{X}}+\\boldsymbol{\\bar{\\bar{C}}}\\boldsymbol{\\Delta\\delta}$代入$J'=\\frac{1}{2}\\boldsymbol{\\tilde{X}}^T\\bar{\\bar{Q}}\\boldsymbol{\\tilde{X}}-\\boldsymbol{r}^T\\boldsymbol{\\bar{\\bar{T}}}\\boldsymbol{\\tilde{X}}+\\frac{1}{2}\\Delta\\delta\\boldsymbol{\\bar{\\bar{R}}}\\Delta\\delta$，得："
   ]
  },
  {
   "cell_type": "markdown",
   "id": "dd8fb26e",
   "metadata": {},
   "source": [
    "$$\n",
    "J''=\n",
    "\\frac{1}{2}\\boldsymbol{\\Delta\\tilde{\\delta}}^T\\boldsymbol{\\bar{\\bar{H}}}\\boldsymbol{\\Delta\\tilde{\\delta}}\n",
    "+\n",
    "\\begin{bmatrix}\n",
    "  \\boldsymbol{\\tilde{X}}_k^T & \\boldsymbol{r}^T\n",
    "\\end{bmatrix}\n",
    "\\boldsymbol{\\bar{\\bar{F}}}^T\\boldsymbol{\\Delta\\tilde{\\delta}}\n",
    "$$"
   ]
  },
  {
   "cell_type": "markdown",
   "id": "b0748d0c",
   "metadata": {},
   "source": [
    "- 其中：\n",
    "$$\n",
    "\\begin{aligned}\n",
    "  \\boldsymbol{\\bar{\\bar{H}}}&=\\boldsymbol{\\bar{\\bar{C}}}^T\\boldsymbol{\\bar{\\bar{Q}}}\\boldsymbol{\\bar{\\bar{C}}}+\\boldsymbol{\\bar{\\bar{R}}} \\\\\n",
    "  \\boldsymbol{\\bar{\\bar{F}}}^T&=\n",
    "  \\begin{bmatrix}\n",
    "    \\boldsymbol{\\hat{\\hat{A}}}^T\\boldsymbol{Q}\\boldsymbol{\\bar{\\bar{C}}} \\\\\n",
    "    -\\boldsymbol{\\bar{\\bar{T}}}\\boldsymbol{\\bar{\\bar{C}}}\n",
    "  \\end{bmatrix}\n",
    "\\end{aligned}\n",
    "$$"
   ]
  },
  {
   "cell_type": "markdown",
   "id": "85acb7f2",
   "metadata": {},
   "source": [
    "求梯度，得：\n",
    "$$\n",
    "\\nabla{J}''=\\boldsymbol{\\bar{\\bar{H}}}\\boldsymbol{\\Delta{\\tilde{\\delta}}}+\\boldsymbol{\\bar{\\bar{F}}}\n",
    "\\begin{bmatrix}\n",
    "  \\boldsymbol{\\tilde{X}}_k \\\\\n",
    "  \\boldsymbol{r}\n",
    "\\end{bmatrix}\n",
    "=0\n",
    "$$"
   ]
  },
  {
   "cell_type": "markdown",
   "id": "da7cc5dc",
   "metadata": {},
   "source": [
    "- 於是：\n",
    "$$\n",
    "\\boldsymbol{\\Delta{\\tilde{\\delta}}}=\n",
    "-\\boldsymbol{\\bar{\\bar{H}}}^{-1}\\boldsymbol{\\bar{\\bar{F}}}\n",
    "\\begin{bmatrix}\n",
    "  \\boldsymbol{\\tilde{X}}_k \\\\\n",
    "  \\boldsymbol{r}\n",
    "\\end{bmatrix}\n",
    "$$"
   ]
  },
  {
   "cell_type": "code",
   "execution_count": 148,
   "id": "e74cdb19",
   "metadata": {},
   "outputs": [],
   "source": [
    "H_bb = np.matmul(np.matmul(np.transpose(C_bb), Q_bb), C_bb) + R_bb\n",
    "AQC = np.matmul(np.matmul(np.transpose(A_hh), Q_bb), C_bb)\n",
    "TC = np.matmul(-T_bb, C_bb)\n",
    "F_bbt = np.concatenate((AQC, TC), axis=0)"
   ]
  },
  {
   "cell_type": "code",
   "execution_count": 210,
   "id": "443a245a",
   "metadata": {},
   "outputs": [
    {
     "name": "stdout",
     "output_type": "stream",
     "text": [
      "[[0. 0. 0. 0. 0. 0. 0. 0. 0. 0. 0. 0. 0. 0. 0. 0. 0. 0. 0. 0. 0. 0. 0. 0.\n",
      "  0. 0. 0. 0. 0. 0. 0. 0. 0. 0. 0. 0. 0. 0. 0. 0. 0. 0. 0. 0. 0.]\n",
      " [0. 0. 0. 0. 0. 0. 0. 0. 0. 0. 0. 0. 0. 0. 0. 0. 0. 0. 0. 0. 0. 0. 0. 0.\n",
      "  0. 0. 0. 0. 0. 0. 0. 0. 0. 0. 0. 0. 0. 0. 0. 0. 0. 0. 0. 0. 0.]\n",
      " [0. 0. 0. 0. 0. 0. 0. 0. 0. 0. 0. 0. 0. 0. 0. 0. 0. 0. 0. 0. 0. 0. 0. 0.\n",
      "  0. 0. 0. 0. 0. 0. 0. 0. 0. 0. 0. 0. 0. 0. 0. 0. 0. 0. 0. 0. 0.]\n",
      " [0. 0. 0. 0. 0. 0. 0. 0. 0. 0. 0. 0. 0. 0. 0. 0. 0. 0. 0. 0. 0. 0. 0. 0.\n",
      "  0. 0. 0. 0. 0. 0. 0. 0. 0. 0. 0. 0. 0. 0. 0. 0. 0. 0. 0. 0. 0.]\n",
      " [0. 0. 0. 0. 0. 0. 0. 0. 0. 0. 0. 0. 0. 0. 0. 0. 0. 0. 0. 0. 0. 0. 0. 0.\n",
      "  0. 0. 0. 0. 0. 0. 0. 0. 0. 0. 0. 0. 0. 0. 0. 0. 0. 0. 0. 0. 0.]\n",
      " [0. 0. 0. 0. 0. 0. 0. 0. 0. 0. 0. 0. 0. 0. 0. 0. 0. 0. 0. 0. 0. 0. 0. 0.\n",
      "  0. 0. 0. 0. 0. 0. 0. 0. 0. 0. 0. 0. 0. 0. 0. 0. 0. 0. 0. 0. 0.]\n",
      " [0. 0. 0. 0. 0. 0. 0. 0. 0. 0. 0. 0. 0. 0. 0. 0. 0. 0. 0. 0. 0. 0. 0. 0.\n",
      "  0. 0. 0. 0. 0. 0. 0. 0. 0. 0. 0. 0. 0. 0. 0. 0. 0. 0. 0. 0. 0.]\n",
      " [0. 0. 0. 0. 0. 0. 0. 0. 0. 0. 0. 0. 0. 0. 0. 0. 0. 0. 0. 0. 0. 0. 0. 0.\n",
      "  0. 0. 0. 0. 0. 0. 0. 0. 0. 0. 0. 0. 0. 0. 0. 0. 0. 0. 0. 0. 0.]\n",
      " [0. 0. 0. 0. 0. 0. 0. 0. 0. 0. 0. 0. 0. 0. 0. 0. 0. 0. 0. 0. 0. 0. 0. 0.\n",
      "  0. 0. 0. 0. 0. 0. 0. 0. 0. 0. 0. 0. 0. 0. 0. 0. 0. 0. 0. 0. 0.]\n",
      " [0. 0. 0. 0. 0. 0. 0. 0. 0. 0. 0. 0. 0. 0. 0. 0. 0. 0. 0. 0. 0. 0. 0. 0.\n",
      "  0. 0. 0. 0. 0. 0. 0. 0. 0. 0. 0. 0. 0. 0. 0. 0. 0. 0. 0. 0. 0.]\n",
      " [0. 0. 0. 0. 0. 0. 0. 0. 0. 0. 0. 0. 0. 0. 0. 0. 0. 0. 0. 0. 0. 0. 0. 0.\n",
      "  0. 0. 0. 0. 0. 0. 0. 0. 0. 0. 0. 0. 0. 0. 0. 0. 0. 0. 0. 0. 0.]\n",
      " [0. 0. 0. 0. 0. 0. 0. 0. 0. 0. 0. 0. 0. 0. 0. 0. 0. 0. 0. 0. 0. 0. 0. 0.\n",
      "  0. 0. 0. 0. 0. 0. 0. 0. 0. 0. 0. 0. 0. 0. 0. 0. 0. 0. 0. 0. 0.]\n",
      " [0. 0. 0. 0. 0. 0. 0. 0. 0. 0. 0. 0. 0. 0. 0. 0. 0. 0. 0. 0. 0. 0. 0. 0.\n",
      "  0. 0. 0. 0. 0. 0. 0. 0. 0. 0. 0. 0. 0. 0. 0. 0. 0. 0. 0. 0. 0.]\n",
      " [0. 0. 0. 0. 0. 0. 0. 0. 0. 0. 0. 0. 0. 0. 0. 0. 0. 0. 0. 0. 0. 0. 0. 0.\n",
      "  0. 0. 0. 0. 0. 0. 0. 0. 0. 0. 0. 0. 0. 0. 0. 0. 0. 0. 0. 0. 0.]\n",
      " [0. 0. 0. 0. 0. 0. 0. 0. 0. 0. 0. 0. 0. 0. 0. 0. 0. 0. 0. 0. 0. 0. 0. 0.\n",
      "  0. 0. 0. 0. 0. 0. 0. 0. 0. 0. 0. 0. 0. 0. 0. 0. 0. 0. 0. 0. 0.]\n",
      " [0. 0. 0. 0. 0. 0. 0. 0. 0. 0. 0. 0. 0. 0. 0. 0. 0. 0. 0. 0. 0. 0. 0. 0.\n",
      "  0. 0. 0. 0. 0. 0. 0. 0. 0. 0. 0. 0. 0. 0. 0. 0. 0. 0. 0. 0. 0.]\n",
      " [0. 0. 0. 0. 0. 0. 0. 0. 0. 0. 0. 0. 0. 0. 0. 0. 0. 0. 0. 0. 0. 0. 0. 0.\n",
      "  0. 0. 0. 0. 0. 0. 0. 0. 0. 0. 0. 0. 0. 0. 0. 0. 0. 0. 0. 0. 0.]\n",
      " [0. 0. 0. 0. 0. 0. 0. 0. 0. 0. 0. 0. 0. 0. 0. 0. 0. 0. 0. 0. 0. 0. 0. 0.\n",
      "  0. 0. 0. 0. 0. 0. 0. 0. 0. 0. 0. 0. 0. 0. 0. 0. 0. 0. 0. 0. 0.]\n",
      " [0. 0. 0. 0. 0. 0. 0. 0. 0. 0. 0. 0. 0. 0. 0. 0. 0. 0. 0. 0. 0. 0. 0. 0.\n",
      "  0. 0. 0. 0. 0. 0. 0. 0. 0. 0. 0. 0. 0. 0. 0. 0. 0. 0. 0. 0. 0.]\n",
      " [0. 0. 0. 0. 0. 0. 0. 0. 0. 0. 0. 0. 0. 0. 0. 0. 0. 0. 0. 0. 0. 0. 0. 0.\n",
      "  0. 0. 0. 0. 0. 0. 0. 0. 0. 0. 0. 0. 0. 0. 0. 0. 0. 0. 0. 0. 0.]]\n"
     ]
    }
   ],
   "source": [
    "print(np.transpose(F_bbt))"
   ]
  },
  {
   "cell_type": "markdown",
   "id": "956708e0",
   "metadata": {},
   "source": [
    "---"
   ]
  },
  {
   "cell_type": "code",
   "execution_count": 149,
   "id": "bbc27a0d",
   "metadata": {},
   "outputs": [],
   "source": [
    "Ts = 0.02\n",
    "hz = 20\n",
    "time_length = 10\n",
    "t = np.arange(0, time_length+Ts, Ts)\n",
    "sim_length = len(t)"
   ]
  },
  {
   "cell_type": "markdown",
   "id": "3f107470",
   "metadata": {},
   "source": [
    "參考矩陣，把$\\varphi$和$y$放到一起，\n",
    "$$\n",
    "refSignals=\n",
    "\\begin{bmatrix}\n",
    "  \\varphi_{ref0} & y_{ref0} & \\varphi_{ref0.02} & y_{ref0.02} & \\varphi_{ref0.04} & y_{ref0.04} & \\dots & \\varphi_{ref10} & y_{ref00}\n",
    "\\end{bmatrix}\n",
    "$$"
   ]
  },
  {
   "cell_type": "code",
   "execution_count": 163,
   "id": "63c4a7d3",
   "metadata": {},
   "outputs": [],
   "source": [
    "outputs = 2   # 輸出量個數\n",
    "X_ref = x\n",
    "PHI_ref = phi_ref\n",
    "Y_ref = y\n",
    "refSignals = np.zeros(len(PHI_ref)*outputs)\n",
    "k = 0\n",
    "for i in range(0, len(refSignals), outputs):\n",
    "    refSignals[i] = PHI_ref[k]\n",
    "    refSignals[i+1] = Y_ref[k]\n",
    "    k += 1\n",
    "# print(refSignals)"
   ]
  },
  {
   "cell_type": "markdown",
   "id": "6a19f675",
   "metadata": {},
   "source": [
    "状态量矩阵：\n",
    "$$\n",
    "statesTotal=\n",
    "\\begin{bmatrix}\n",
    "  \\dot{y}_0 & \\varphi_0 & \\dot{\\varphi}_0 & y_0 \\\\\n",
    "  \\dot{y}_{0.02} & \\varphi_{0.02} & \\dot{\\varphi}_{0.02} & y_{0.02} \\\\\n",
    "  \\dot{y}_{0.04} & \\varphi_{0.04} & \\dot{\\varphi}_{0.04} & y_{0.04} \\\\\n",
    "  \\vdots \\\\\n",
    "  \\dot{y}_{10} & \\varphi_{10} & \\dot{\\varphi}_{10} & y_{10} \\\\\n",
    "\\end{bmatrix}\n",
    "$$"
   ]
  },
  {
   "cell_type": "code",
   "execution_count": 185,
   "id": "dcad30e9",
   "metadata": {},
   "outputs": [],
   "source": [
    "y_dot = 0\n",
    "phi = 0\n",
    "phi_dot = 0\n",
    "y = 0\n",
    "states = np.array([y_dot, phi, phi_dot, y])\n",
    "statesTotal = np.zeros((sim_length, len(states)))\n",
    "# print(states)"
   ]
  },
  {
   "cell_type": "markdown",
   "id": "f0b9908f",
   "metadata": {},
   "source": [
    "控制变量矩阵:\n",
    "$$\n",
    "U=\n",
    "\\begin{bmatrix}\n",
    "  \\delta_{0} & \\delta_{0.02} & \\delta_{0.04} & \\dots & \\delta_{10}\n",
    "\\end{bmatrix}\n",
    "$$"
   ]
  },
  {
   "cell_type": "code",
   "execution_count": 170,
   "id": "ff2285c5",
   "metadata": {},
   "outputs": [],
   "source": [
    "U0 = 0\n",
    "U = np.zeros(len(t))\n",
    "# print(U)"
   ]
  },
  {
   "cell_type": "markdown",
   "id": "e9b4e28e",
   "metadata": {},
   "source": [
    "$$\n",
    "\\begin{aligned}\n",
    "phi\\_opt\\_total&=\n",
    "\\left[\n",
    "\\begin{array}{l}\n",
    "  \\varphi_{0}^{0} & \\varphi_{0}^{1} & \\varphi_{0}^{2} & \\varphi_{0}^{hz} & \\varphi_{0}^{20} \\\\\n",
    "  \\varphi_{0.02}^{0} & \\varphi_{0.02}^{1} & \\varphi_{0.02}^{2} &  & \\varphi_{0.02}^{20} \\\\\n",
    "  \\varphi_{0.04}^{0} & \\varphi_{0.04}^{1} & \\varphi_{0.04}^{2} &  & \\varphi_{0.04}^{20} \\\\\n",
    "  \\varphi_{t}^{0} \\\\\n",
    "  \\varphi_{10}^{0} & \\varphi_{10}^{1} & \\varphi_{10}^{2} &  & \\varphi_{10}^{20} \\\\\n",
    "\\end{array}\n",
    "\\right]\n",
    "\\\\\n",
    "\\\\\n",
    "Y\\_opt\\_total&=\n",
    "\\left[\n",
    "\\begin{array}{l}\n",
    "  Y_{0}^{0} & Y_{0}^{1} & Y_{0}^{2} & Y_{0}^{hz} & Y_{0}^{20} \\\\\n",
    "  Y_{0.02}^{0} & Y_{0.02}^{1} & Y_{0.02}^{2} &  & Y_{0.02}^{20} \\\\\n",
    "  Y_{0.04}^{0} & Y_{0.04}^{1} & Y_{0.04}^{2} &  & Y_{0.04}^{20} \\\\\n",
    "  Y_{t}^{0} \\\\\n",
    "  Y_{10}^{0} & Y_{10}^{1} & Y_{10}^{2} &  & Y_{10}^{20} \\\\\n",
    "\\end{array}\n",
    "\\right]\n",
    "\\end{aligned}\n",
    "$$\n",
    "C\\_opt\\_total是$\\boldsymbol{\\bar{\\bar{C}}}$矩阵\n",
    "$$\n",
    "C\\_opt\\_total=\n",
    "\\left[\n",
    "\\begin{array}{l}\n",
    "  \\begin{bmatrix}\\dot{Y}&{\\varphi}&\\dot\\varphi&y&\\delta\\end{bmatrix}_{0}^{0} & \\begin{bmatrix}\\dot{Y}&{\\varphi}&\\dot\\varphi&y&\\delta\\end{bmatrix}_{0}^{1} & \\begin{bmatrix}\\dot{Y}&{\\varphi}&\\dot\\varphi&y&\\delta\\end{bmatrix}_{0}^{2} & \\begin{bmatrix}\\dot{Y}&{\\varphi}&\\dot\\varphi&y&\\delta\\end{bmatrix}_{0}^{hz} & \\begin{bmatrix}\\dot{Y}&{\\varphi}&\\dot\\varphi&y&\\delta\\end{bmatrix}_{0}^{20} \\\\\n",
    "  \\begin{bmatrix}\\dot{Y}&{\\varphi}&\\dot\\varphi&y&\\delta\\end{bmatrix}_{1}^{0} & \\begin{bmatrix}\\dot{Y}&{\\varphi}&\\dot\\varphi&y&\\delta\\end{bmatrix}_{1}^{1} & \\begin{bmatrix}\\dot{Y}&{\\varphi}&\\dot\\varphi&y&\\delta\\end{bmatrix}_{1}^{2} &  & \\begin{bmatrix}\\dot{Y}&{\\varphi}&\\dot\\varphi&y&\\delta\\end{bmatrix}_{1}^{20} \\\\\n",
    "  \\begin{bmatrix}\\dot{Y}&{\\varphi}&\\dot\\varphi&y&\\delta\\end{bmatrix}_{2}^{0} & \\begin{bmatrix}\\dot{Y}&{\\varphi}&\\dot\\varphi&y&\\delta\\end{bmatrix}_{2}^{1} & \\begin{bmatrix}\\dot{Y}&{\\varphi}&\\dot\\varphi&y&\\delta\\end{bmatrix}_{2}^{2} &  & \\begin{bmatrix}\\dot{Y}&{\\varphi}&\\dot\\varphi&y&\\delta\\end{bmatrix}_{2}^{20} \\\\\n",
    "  \\begin{bmatrix}\\dot{Y}&{\\varphi}&\\dot\\varphi&y&\\delta\\end{bmatrix}_{hz}^{0} \\\\\n",
    "  \\begin{bmatrix}\\dot{Y}&{\\varphi}&\\dot\\varphi&y&\\delta\\end{bmatrix}_{20}^{0} & \\begin{bmatrix}\\dot{Y}&{\\varphi}&\\dot\\varphi&y&\\delta\\end{bmatrix}_{20}^{1} & \\begin{bmatrix}\\dot{Y}&{\\varphi}&\\dot\\varphi&y&\\delta\\end{bmatrix}_{20}^{2} &  & \\begin{bmatrix}\\dot{Y}&{\\varphi}&\\dot\\varphi&y&\\delta\\end{bmatrix}_{20}^{20} \\\\\n",
    "\\end{array}\n",
    "\\right]\n",
    "$$"
   ]
  },
  {
   "cell_type": "code",
   "execution_count": 182,
   "id": "11baf2d8",
   "metadata": {
    "scrolled": true
   },
   "outputs": [],
   "source": [
    "phi_opt_total = np.zeros((sim_length, hz))\n",
    "Y_opt_total = np.zeros((sim_length, hz))\n",
    "\n",
    "hz = 20\n",
    "C_phi_opt = np.zeros((hz, (len(states)+np.size(U0)) *hz))\n",
    "C_Y_opt = np.zeros((hz, (len(states)+np.size(U0)) *hz))\n",
    "for i in range(0, hz):\n",
    "    C_phi_opt[i][i*5 + 1] = 1\n",
    "    C_Y_opt[i][i*5 + 3] = 1\n",
    "\n",
    "# print(C_Y_opt , '\\n')\n",
    "# print(C_phi_opt , '\\n')"
   ]
  },
  {
   "cell_type": "markdown",
   "id": "79cc6927",
   "metadata": {},
   "source": [
    "預測"
   ]
  },
  {
   "cell_type": "code",
   "execution_count": 205,
   "id": "414321f3",
   "metadata": {},
   "outputs": [
    {
     "name": "stdout",
     "output_type": "stream",
     "text": [
      "5\n"
     ]
    }
   ],
   "source": [
    "outputs = 2  # 输出量个数\n",
    "k = 0\n",
    "hz_const = hz\n",
    "for i in range(0, sim_length-1):\n",
    "    x_aug_t = np.transpose([np.concatenate((states, [U0]), axis=0)]) # [dy phi dphi y delta]_0\n",
    "    \n",
    "    k += outputs\n",
    "    if k + outputs*hz <= len(refSignals):\n",
    "        r = refSignals[k: k+outputs*hz]\n",
    "    else:\n",
    "        r = refSignals[k: len(refSignals)]\n",
    "        hz -= 1\n",
    "    \n",
    "    if hz < hz_const:\n",
    "        pass\n",
    "print(len(x_aug_t))"
   ]
  },
  {
   "cell_type": "code",
   "execution_count": null,
   "id": "f7695bc9",
   "metadata": {},
   "outputs": [],
   "source": [
    "import support_file_car_zqq as sfc"
   ]
  },
  {
   "cell_type": "code",
   "execution_count": 208,
   "id": "eaf13da9",
   "metadata": {},
   "outputs": [
    {
     "name": "stdout",
     "output_type": "stream",
     "text": [
      "[[0. 0.]] \n",
      " [[1. 1.]\n",
      " [1. 1.]]\n",
      "1\n"
     ]
    }
   ],
   "source": [
    "a = np.zeros((1, 2))\n",
    "b = np.ones((2,2))\n",
    "print(a, '\\n', b)\n",
    "print(len(a))"
   ]
  },
  {
   "cell_type": "code",
   "execution_count": null,
   "id": "5c463db9",
   "metadata": {},
   "outputs": [],
   "source": []
  },
  {
   "cell_type": "code",
   "execution_count": null,
   "id": "7e848b30",
   "metadata": {},
   "outputs": [],
   "source": []
  },
  {
   "cell_type": "code",
   "execution_count": null,
   "id": "6fe0d1e5",
   "metadata": {},
   "outputs": [],
   "source": []
  },
  {
   "cell_type": "code",
   "execution_count": null,
   "id": "c5f75c82",
   "metadata": {},
   "outputs": [],
   "source": []
  },
  {
   "cell_type": "code",
   "execution_count": null,
   "id": "d620b14a",
   "metadata": {},
   "outputs": [],
   "source": []
  },
  {
   "cell_type": "code",
   "execution_count": null,
   "id": "896e0964",
   "metadata": {},
   "outputs": [],
   "source": []
  },
  {
   "cell_type": "code",
   "execution_count": null,
   "id": "a0d6e898",
   "metadata": {},
   "outputs": [],
   "source": []
  },
  {
   "cell_type": "markdown",
   "id": "3ca972fc",
   "metadata": {},
   "source": [
    "5条车道，每条车道宽7m"
   ]
  },
  {
   "cell_type": "code",
   "execution_count": null,
   "id": "50e389d6",
   "metadata": {},
   "outputs": [],
   "source": []
  }
 ],
 "metadata": {
  "kernelspec": {
   "display_name": "Python 3 (ipykernel)",
   "language": "python",
   "name": "python3"
  },
  "language_info": {
   "codemirror_mode": {
    "name": "ipython",
    "version": 3
   },
   "file_extension": ".py",
   "mimetype": "text/x-python",
   "name": "python",
   "nbconvert_exporter": "python",
   "pygments_lexer": "ipython3",
   "version": "3.9.16"
  }
 },
 "nbformat": 4,
 "nbformat_minor": 5
}
