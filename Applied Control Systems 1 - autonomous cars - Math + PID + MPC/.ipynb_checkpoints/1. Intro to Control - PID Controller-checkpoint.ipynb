{
 "cells": [
  {
   "cell_type": "markdown",
   "id": "5562910a",
   "metadata": {},
   "source": [
    "# 1. Intro to Control - PID Controller"
   ]
  },
  {
   "cell_type": "markdown",
   "id": "46846528",
   "metadata": {},
   "source": [
    ">zhangqq  \n",
    ">Apr-19, 2023  \n",
    ">Chongqing\n",
    "---"
   ]
  },
  {
   "cell_type": "markdown",
   "id": "de69db91",
   "metadata": {},
   "source": [
    "## Water Tank"
   ]
  },
  {
   "cell_type": "markdown",
   "id": "c023da75",
   "metadata": {},
   "source": [
    "## PID Control"
   ]
  },
  {
   "cell_type": "code",
   "execution_count": 1,
   "id": "32620c59",
   "metadata": {},
   "outputs": [],
   "source": [
    "import matplotlib.pyplot as plt\n",
    "import matplotlib.gridspec as gridspec\n",
    "import matplotlib.animation as animation\n",
    "import numpy as np\n",
    "import random"
   ]
  },
  {
   "cell_type": "markdown",
   "id": "f411a112",
   "metadata": {},
   "source": [
    "参数：\n",
    "```\n",
    "    trials = 2   试验次数\n",
    "    incl_angle   轨道坡度角，30deg  \n",
    "    g            重力加速度  \n",
    "    mass_cart    火车质量kg\n",
    "```"
   ]
  },
  {
   "cell_type": "code",
   "execution_count": 18,
   "id": "2e4a50ba",
   "metadata": {},
   "outputs": [],
   "source": [
    "trials = 2\n",
    "angle = np.pi/6*1\n",
    "g = 10\n",
    "train_mass = 100\n",
    "F_g = train_mass*g"
   ]
  },
  {
   "cell_type": "markdown",
   "id": "63b487bc",
   "metadata": {},
   "source": [
    "PID控制参数\n",
    "$$\n",
    "u=K_pe(t) + K_i\\int e(t)dt + K_d\\frac{\\mathrm{d}e(t)}{\\mathrm{d}t}\n",
    "$$"
   ]
  },
  {
   "cell_type": "code",
   "execution_count": 5,
   "id": "9b92782c",
   "metadata": {},
   "outputs": [],
   "source": [
    "K_p = 300\n",
    "K_i = 10\n",
    "K_d = 300"
   ]
  },
  {
   "cell_type": "markdown",
   "id": "c8c4e5db",
   "metadata": {},
   "source": [
    "随机生成cube的x坐标\n",
    "- uniform，均布随机\n",
    "- 火车的高度为6.5\\*2，cube顶部"
   ]
  },
  {
   "cell_type": "code",
   "execution_count": 16,
   "id": "6f5fac60",
   "metadata": {},
   "outputs": [],
   "source": [
    "def set_x_ref(angle):\n",
    "    rand_h = random.uniform(0, 120)\n",
    "    rand_v = random.uniform(20 + 120*np.tan(angle) + 6.5, 40 + 120*np.tan(incl_angle) + 6.5)\n",
    "    return rand_h, rand_v"
   ]
  },
  {
   "cell_type": "code",
   "execution_count": 9,
   "id": "63e7e6f4",
   "metadata": {},
   "outputs": [],
   "source": [
    "train_grav = train_mass*g"
   ]
  },
  {
   "cell_type": "markdown",
   "id": "12e88aa5",
   "metadata": {},
   "source": [
    "时间"
   ]
  },
  {
   "cell_type": "code",
   "execution_count": 13,
   "id": "0f0a0fae",
   "metadata": {},
   "outputs": [],
   "source": [
    "dt = 0.02\n",
    "t0 = 0\n",
    "t_end = 5\n",
    "t = np.arange(t0, t_end + dt, dt) # 因为arange是前闭后开，所以需想办法取到t_end值"
   ]
  },
  {
   "cell_type": "markdown",
   "id": "d732f361",
   "metadata": {},
   "source": [
    "定义初始矩阵"
   ]
  },
  {
   "cell_type": "code",
   "execution_count": 22,
   "id": "5ffea695",
   "metadata": {},
   "outputs": [],
   "source": [
    "train_disp = np.zeros((trials, len(t)))\n",
    "train_v = np.zeros((trials, len(t)))\n",
    "train_a = np.zeros((trials, len(t)))\n",
    "train_pos_x = np.zeros((trials, len(t)))\n",
    "train_pos_y = np.zeros((trials, len(t)))\n",
    "cube_pos_x = np.zeros((trials, len(t)))\n",
    "cube_pos_y = np.zeros((trials, len(t)))\n",
    "e = np.zeros((trials, len(t)))\n",
    "e_dot = np.zeros((trials, len(t))) # de/dt\n",
    "e_int = np.zeros((trials, len(t))) # //edt"
   ]
  },
  {
   "cell_type": "markdown",
   "id": "40eb0d23",
   "metadata": {},
   "source": [
    "train的初始位置、位移、速度和加速度"
   ]
  },
  {
   "cell_type": "code",
   "execution_count": 24,
   "id": "3f41dfc0",
   "metadata": {},
   "outputs": [],
   "source": [
    "init_train_pos_x = 120\n",
    "init_train_pos_y = 120*np.tan(angle)\n",
    "init_train_disp = ( init_train_pos_x**2 + init_train_pos_y**2)**0.5\n",
    "init_train_v = 0\n",
    "init_train_a = 0"
   ]
  },
  {
   "cell_type": "markdown",
   "id": "7e682ee6",
   "metadata": {},
   "source": [
    "train的切向力，即驱动力"
   ]
  },
  {
   "cell_type": "code",
   "execution_count": 19,
   "id": "13630785",
   "metadata": {},
   "outputs": [],
   "source": [
    "F_t = F_g*np.sin(angle)"
   ]
  },
  {
   "cell_type": "markdown",
   "id": "e875de7a",
   "metadata": {},
   "source": [
    "循环"
   ]
  },
  {
   "cell_type": "code",
   "execution_count": null,
   "id": "6176151e",
   "metadata": {},
   "outputs": [],
   "source": [
    "trials_global = trials\n",
    "trials_magn=trials\n",
    "init_pos_x_global=init_pos_x\n",
    "history=np.ones(trials)\n",
    "while(trials > 0):\n",
    "    cube_pos_x_ref = set_x_ref(angle)[0]\n",
    "    cube_pos_y_ref = set_x_ref(angle)[1]\n",
    "    \n",
    "    times = trials_magn - trials\n",
    "    \n",
    "    cube_pos_x[times] = cube_pos_x_ref\n",
    "    cube_pos_y[times] = cube_pos_y_ref\n",
    "    \n",
    "    win = False\n",
    "    delta = 1\n",
    "    \n",
    "    # train矩阵的初始位置、位移、速度和加速度\n",
    "    train_disp[times][0] = init_train_disp\n",
    "    train_pos_x[times][0] = train_pos_x\n",
    "    train_pos_y[times][0] = train_pos_y\n",
    "    train_v[times][0] = init_train_v\n",
    "    train_a[times][0] = init_train_a\n",
    "    \n",
    "    # 每次trial的循环，一次循环的PID控制\n",
    "    for i in range(1, len(t)):\n",
    "\n",
    "        # Compute the horizontal error\n",
    "        e[times][i-1] = cube_pos_x_refu - train_pos_x[times][i-1]                      # e\n",
    "        e_dot[times][i-1] = (e[times][i-1]-e[times][i-2])/dt                           # de/dt\n",
    "        e_int[times][i-1] = e_int[times][i-2] + (e[times][i-2] + e[times][i-1])*dt/2   # //edt\n",
    "        \n",
    "        # 使最后两项相等，说明完全接住了cube吗？\n",
    "        if i == len(t)-1:\n",
    "            e[times][-1] = e[times][-2]\n",
    "            e_dot[times][-1] = e_dot[times][-2]\n",
    "            e_int[times][-1] = e_int[times][-2]\n",
    "        \n",
    "        # PID控制公式\n",
    "        F_a = K_p*e[times][i-1] + K_d*e_dot[times][i-1] + K_i*e_int[times][i-1]\n",
    "        \n",
    "        F_net = F_a + F_ga_t\n",
    "        a_rail[times][i]=F_net/mass_cart\n",
    "        v_rail[times][i]=v_rail[times][i-1]+(a_rail[times][i-1]+a_rail[times][i])/2*dt\n",
    "        displ_rail[times][i]=displ_rail[times][i-1]+(v_rail[times][i-1]+v_rail[times][i])/2*dt\n",
    "        pos_x_train[times][i]=displ_rail[times][i]*np.cos(incl_angle)\n",
    "        pos_y_train[times][i]=displ_rail[times][i]*np.sin(incl_angle)+6.5\n",
    "\n",
    "        # Try to catch it\n",
    "        if (pos_x_train[times][i]-5<pos_x_cube[times][i]+3 and pos_x_train[times][i]+5>pos_x_cube[times][i]-3) or win==True:\n",
    "            if (pos_y_train[times][i]+3<pos_y_cube[times][i]-2 and pos_y_train[times][i]+8>pos_y_cube[times][i]+2) or win==True:\n",
    "                win=True\n",
    "                if delta==1:\n",
    "                    change=pos_x_train[times][i]-pos_x_cube[times][i]\n",
    "                    delta=0\n",
    "                pos_x_cube[times][i]=pos_x_train[times][i]-change\n",
    "                pos_y_cube[times][i]=pos_y_train[times][i]+5"
   ]
  }
 ],
 "metadata": {
  "kernelspec": {
   "display_name": "Python 3 (ipykernel)",
   "language": "python",
   "name": "python3"
  },
  "language_info": {
   "codemirror_mode": {
    "name": "ipython",
    "version": 3
   },
   "file_extension": ".py",
   "mimetype": "text/x-python",
   "name": "python",
   "nbconvert_exporter": "python",
   "pygments_lexer": "ipython3",
   "version": "3.9.16"
  }
 },
 "nbformat": 4,
 "nbformat_minor": 5
}
