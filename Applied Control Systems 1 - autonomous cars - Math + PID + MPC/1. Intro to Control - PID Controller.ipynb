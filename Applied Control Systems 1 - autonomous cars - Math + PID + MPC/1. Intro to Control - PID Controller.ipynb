{
 "cells": [
  {
   "cell_type": "markdown",
   "id": "ac761ff2",
   "metadata": {},
   "source": [
    "# 1. Intro to Control - PID Controller"
   ]
  },
  {
   "cell_type": "markdown",
   "id": "b0d8d004",
   "metadata": {},
   "source": [
    ">zhangqq  \n",
    ">Apr-19, 2023  \n",
    ">Chongqing\n",
    "---"
   ]
  },
  {
   "cell_type": "markdown",
   "id": "e7918a07",
   "metadata": {},
   "source": [
    "## Water Tank"
   ]
  },
  {
   "cell_type": "markdown",
   "id": "4127b203",
   "metadata": {},
   "source": [
    "## PID Control"
   ]
  },
  {
   "cell_type": "code",
   "execution_count": 1,
   "id": "95b92059",
   "metadata": {},
   "outputs": [],
   "source": [
    "import matplotlib.pyplot as plt\n",
    "import matplotlib.gridspec as gridspec\n",
    "import matplotlib.animation as animation\n",
    "import numpy as np\n",
    "import random"
   ]
  },
  {
   "cell_type": "markdown",
   "id": "ae48925c",
   "metadata": {},
   "source": [
    "参数：\n",
    "```\n",
    "    trials = 2   试验次数\n",
    "    incl_angle   轨道坡度角，30deg  \n",
    "    g            重力加速度  \n",
    "    mass_cart    火车质量kg\n",
    "```"
   ]
  },
  {
   "cell_type": "code",
   "execution_count": 18,
   "id": "da00516f",
   "metadata": {},
   "outputs": [],
   "source": [
    "trials = 2\n",
    "angle = np.pi/6*1\n",
    "g = 10\n",
    "train_mass = 100\n",
    "F_g = train_mass*g"
   ]
  },
  {
   "cell_type": "markdown",
   "id": "d9f84033",
   "metadata": {},
   "source": [
    "PID控制参数\n",
    "$$\n",
    "u=K_pe(t) + K_i\\int e(t)dt + K_d\\frac{\\mathrm{d}e(t)}{\\mathrm{d}t}\n",
    "$$"
   ]
  },
  {
   "cell_type": "code",
   "execution_count": 5,
   "id": "9416e2d9",
   "metadata": {},
   "outputs": [],
   "source": [
    "K_p = 300\n",
    "K_i = 10\n",
    "K_d = 300"
   ]
  },
  {
   "cell_type": "markdown",
   "id": "501c997d",
   "metadata": {},
   "source": [
    "随机生成cube的x坐标\n",
    "- uniform，均布随机\n",
    "- 火车的高度为6.5\\*2，cube顶部"
   ]
  },
  {
   "cell_type": "code",
   "execution_count": 16,
   "id": "f0a97cfd",
   "metadata": {},
   "outputs": [],
   "source": [
    "def set_x_ref(angle):\n",
    "    rand_h = random.uniform(0, 120)\n",
    "    rand_v = random.uniform(20 + 120*np.tan(angle) + 6.5, 40 + 120*np.tan(incl_angle) + 6.5)\n",
    "    return rand_h, rand_v"
   ]
  },
  {
   "cell_type": "code",
   "execution_count": 9,
   "id": "551be6d8",
   "metadata": {},
   "outputs": [],
   "source": [
    "train_grav = train_mass*g"
   ]
  },
  {
   "cell_type": "markdown",
   "id": "077ce22c",
   "metadata": {},
   "source": [
    "时间"
   ]
  },
  {
   "cell_type": "code",
   "execution_count": 13,
   "id": "a3770711",
   "metadata": {},
   "outputs": [],
   "source": [
    "dt = 0.02\n",
    "t0 = 0\n",
    "t_end = 5\n",
    "t = np.arange(t0, t_end + dt, dt) # 因为arange是前闭后开，所以需想办法取到t_end值"
   ]
  },
  {
   "cell_type": "markdown",
   "id": "7ca5e017",
   "metadata": {},
   "source": [
    "定义初始矩阵"
   ]
  },
  {
   "cell_type": "code",
   "execution_count": 22,
   "id": "1c836602",
   "metadata": {},
   "outputs": [],
   "source": [
    "train_disp = np.zeros((trials, len(t)))\n",
    "train_v = np.zeros((trials, len(t)))\n",
    "train_a = np.zeros((trials, len(t)))\n",
    "train_pos_x = np.zeros((trials, len(t)))\n",
    "train_pos_y = np.zeros((trials, len(t)))\n",
    "cube_pos_x = np.zeros((trials, len(t)))\n",
    "cube_pos_y = np.zeros((trials, len(t)))\n",
    "e = np.zeros((trials, len(t)))\n",
    "e_dot = np.zeros((trials, len(t))) # de/dt\n",
    "e_int = np.zeros((trials, len(t))) # //edt"
   ]
  },
  {
   "cell_type": "markdown",
   "id": "0faabb37",
   "metadata": {},
   "source": [
    "train的初始位置、位移、速度和加速度"
   ]
  },
  {
   "cell_type": "code",
   "execution_count": 24,
   "id": "c52700f4",
   "metadata": {},
   "outputs": [],
   "source": [
    "init_train_pos_x = 120\n",
    "init_train_pos_y = 120*np.tan(angle)\n",
    "init_train_disp = ( init_train_pos_x**2 + init_train_pos_y**2)**0.5\n",
    "init_train_v = 0\n",
    "init_train_a = 0"
   ]
  },
  {
   "cell_type": "markdown",
   "id": "c1ea9d37",
   "metadata": {},
   "source": [
    "train的切向力，即驱动力"
   ]
  },
  {
   "cell_type": "code",
   "execution_count": 19,
   "id": "88cd7adc",
   "metadata": {},
   "outputs": [],
   "source": [
    "F_t = F_g*np.sin(angle)"
   ]
  },
  {
   "cell_type": "markdown",
   "id": "236972e2",
   "metadata": {},
   "source": [
    "循环"
   ]
  },
  {
   "cell_type": "code",
   "execution_count": 25,
   "id": "cb976123",
   "metadata": {},
   "outputs": [
    {
     "ename": "NameError",
     "evalue": "name 'init_pos_x' is not defined",
     "output_type": "error",
     "traceback": [
      "\u001b[1;31m---------------------------------------------------------------------------\u001b[0m",
      "\u001b[1;31mNameError\u001b[0m                                 Traceback (most recent call last)",
      "Cell \u001b[1;32mIn[25], line 3\u001b[0m\n\u001b[0;32m      1\u001b[0m trials_global \u001b[38;5;241m=\u001b[39m trials\n\u001b[0;32m      2\u001b[0m trials_magn\u001b[38;5;241m=\u001b[39mtrials\n\u001b[1;32m----> 3\u001b[0m init_pos_x_global\u001b[38;5;241m=\u001b[39m\u001b[43minit_pos_x\u001b[49m\n\u001b[0;32m      4\u001b[0m history\u001b[38;5;241m=\u001b[39mnp\u001b[38;5;241m.\u001b[39mones(trials)\n\u001b[0;32m      5\u001b[0m \u001b[38;5;28;01mwhile\u001b[39;00m(trials \u001b[38;5;241m>\u001b[39m \u001b[38;5;241m0\u001b[39m):\n",
      "\u001b[1;31mNameError\u001b[0m: name 'init_pos_x' is not defined"
     ]
    }
   ],
   "source": [
    "trials_global = trials\n",
    "trials_magn=trials\n",
    "init_pos_x_global=init_pos_x\n",
    "history=np.ones(trials)\n",
    "while(trials > 0):\n",
    "    cube_pos_x_ref = set_x_ref(angle)[0]\n",
    "    cube_pos_y_ref = set_x_ref(angle)[1]\n",
    "    \n",
    "    times = trials_magn - trials\n",
    "    \n",
    "    cube_pos_x[times] = cube_pos_x_ref\n",
    "    cube_pos_y[times] = cube_pos_y_ref\n",
    "    \n",
    "    win = False    # 判断cube是否已经下落到无法接住的位置\n",
    "    delta = 1       # 判断train在cube的左还是右 右=1 左=0\n",
    "    \n",
    "    # train矩阵的初始位置、位移、速度和加速度\n",
    "    train_disp[times][0] = init_train_disp\n",
    "    train_pos_x[times][0] = train_pos_x\n",
    "    train_pos_y[times][0] = train_pos_y\n",
    "    train_v[times][0] = init_train_v\n",
    "    train_a[times][0] = init_train_a\n",
    "    \n",
    "    # 每次trial的循环，一次循环的PID控制\n",
    "    for i in range(1, len(t)):\n",
    "\n",
    "        # Compute the horizontal error\n",
    "        e[times][i-1] = cube_pos_x_refu - train_pos_x[times][i-1]                      # e\n",
    "        e_dot[times][i-1] = (e[times][i-1]-e[times][i-2])/dt                           # de/dt\n",
    "        e_int[times][i-1] = e_int[times][i-2] + (e[times][i-2] + e[times][i-1])*dt/2   # //edt\n",
    "        \n",
    "        # 使最后两项相等，说明完全接住了cube吗？\n",
    "        if i == len(t)-1:\n",
    "            e[times][-1] = e[times][-2]\n",
    "            e_dot[times][-1] = e_dot[times][-2]\n",
    "            e_int[times][-1] = e_int[times][-2]\n",
    "        \n",
    "        # PID控制公式\n",
    "        F_a = K_p*e[times][i-1] + K_d*e_dot[times][i-1] + K_i*e_int[times][i-1]\n",
    "        \n",
    "        F_net = F_a + F_ga_t\n",
    "        train_a[times][i] = F_net/mass_cart\n",
    "        \n",
    "        train_v[times][i] = train_v[times][i-1] + (train_v[times][i-1] + train_v[times][i])*dt/2\n",
    "        train_disp[times][i] = train_disp[times][i-1] + (train_disp[times][i-1] + train_disp[times][i])*dt/2\n",
    "        train_pos_x[times][i] = train_pos_x[times][i]*np.cos(angle)\n",
    "        train_pos_y[times][i] = train_pos_y[times][i]*np.sin(angle) + 6.5\n",
    "\n",
    "        # Try to catch it\n",
    "        if (train_pos_x[times][i]-5 < cube_pos_x[times][i]+3 and train_pos_x[times][i]+5 > cube_pos_x[times][i]-3) or win == True:\n",
    "            if (train_pos_y[times][i]+3 < cube_pos_y[times][i]-2 and train_pos_y[times][i]+8 > cube_pos_y[times][i]+2) or win == True:\n",
    "                win = True\n",
    "                if delta == 1:\n",
    "                    change = train_pos_x[times][i] - cube_pos_x[times][i]\n",
    "                    delta = 0\n",
    "                cube_pos_x[times][i] = train_pos_x[times][i] - change\n",
    "                cube_pos_y[times][i] = train_pos_yi[times][i] + 5"
   ]
  },
  {
   "cell_type": "code",
   "execution_count": 34,
   "id": "696db228",
   "metadata": {},
   "outputs": [
    {
     "data": {
      "image/png": "[encoded data removed]",
      "text/plain": [
       "<Figure size 1920x1080 with 1 Axes>"
      ]
     },
     "metadata": {},
     "output_type": "display_data"
    }
   ],
   "source": [
    "import numpy as np\n",
    "import matplotlib.pyplot as plt\n",
    "import matplotlib.gridspec as gridspec\n",
    "import matplotlib.animation as animation\n",
    "\n",
    "fig = plt.figure(figsize=(16,9),dpi=120,facecolor=(0.8,0.8,0.8))\n",
    "gs = gridspec.GridSpec(4,3)\n",
    "\n",
    "\n",
    "init_pos_x_global = 120\n",
    "ax_main=fig.add_subplot(gs[0:3,0:2],facecolor=(0.9,0.9,0.9))\n",
    "plt.xlim(0,init_pos_x_global)\n",
    "plt.ylim(0,init_pos_x_global)\n",
    "plt.xticks(np.arange(0,init_pos_x_global+1,10))\n",
    "plt.yticks(np.arange(0,init_pos_x_global+1,10))\n",
    "plt.grid(True)\n",
    "\n",
    "\n",
    "plt.show()"
   ]
  }
 ],
 "metadata": {
  "kernelspec": {
   "display_name": "Python 3 (ipykernel)",
   "language": "python",
   "name": "python3"
  },
  "language_info": {
   "codemirror_mode": {
    "name": "ipython",
    "version": 3
   },
   "file_extension": ".py",
   "mimetype": "text/x-python",
   "name": "python",
   "nbconvert_exporter": "python",
   "pygments_lexer": "ipython3",
   "version": "3.9.16"
  }
 },
 "nbformat": 4,
 "nbformat_minor": 5
}
